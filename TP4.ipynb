{
  "nbformat": 4,
  "nbformat_minor": 0,
  "metadata": {
    "colab": {
      "provenance": [],
      "gpuType": "T4"
    },
    "kernelspec": {
      "name": "python3",
      "display_name": "Python 3"
    },
    "language_info": {
      "name": "python"
    },
    "accelerator": "GPU",
    "widgets": {
      "application/vnd.jupyter.widget-state+json": {
        "e1bc84655310453dae8352abd0818d71": {
          "model_module": "@jupyter-widgets/controls",
          "model_name": "HBoxModel",
          "model_module_version": "1.5.0",
          "state": {
            "_dom_classes": [],
            "_model_module": "@jupyter-widgets/controls",
            "_model_module_version": "1.5.0",
            "_model_name": "HBoxModel",
            "_view_count": null,
            "_view_module": "@jupyter-widgets/controls",
            "_view_module_version": "1.5.0",
            "_view_name": "HBoxView",
            "box_style": "",
            "children": [
              "IPY_MODEL_bc7d44ce71ba4447a8574f05038acff1",
              "IPY_MODEL_04857fe9561f40b3981cfd00d731e3c8",
              "IPY_MODEL_22e96028e29b4ee696edd7f4fb8ddc27"
            ],
            "layout": "IPY_MODEL_475698cbdefd423ab4695e05364bad2e"
          }
        },
        "bc7d44ce71ba4447a8574f05038acff1": {
          "model_module": "@jupyter-widgets/controls",
          "model_name": "HTMLModel",
          "model_module_version": "1.5.0",
          "state": {
            "_dom_classes": [],
            "_model_module": "@jupyter-widgets/controls",
            "_model_module_version": "1.5.0",
            "_model_name": "HTMLModel",
            "_view_count": null,
            "_view_module": "@jupyter-widgets/controls",
            "_view_module_version": "1.5.0",
            "_view_name": "HTMLView",
            "description": "",
            "description_tooltip": null,
            "layout": "IPY_MODEL_126aea9bdb794705972fe3c3bcde15e9",
            "placeholder": "​",
            "style": "IPY_MODEL_feb25338b75b4074bc5cdd626df64b9d",
            "value": "Loading checkpoint shards: 100%"
          }
        },
        "04857fe9561f40b3981cfd00d731e3c8": {
          "model_module": "@jupyter-widgets/controls",
          "model_name": "FloatProgressModel",
          "model_module_version": "1.5.0",
          "state": {
            "_dom_classes": [],
            "_model_module": "@jupyter-widgets/controls",
            "_model_module_version": "1.5.0",
            "_model_name": "FloatProgressModel",
            "_view_count": null,
            "_view_module": "@jupyter-widgets/controls",
            "_view_module_version": "1.5.0",
            "_view_name": "ProgressView",
            "bar_style": "success",
            "description": "",
            "description_tooltip": null,
            "layout": "IPY_MODEL_bead41676198422a86506ab71a1f08ac",
            "max": 2,
            "min": 0,
            "orientation": "horizontal",
            "style": "IPY_MODEL_fb5876f9acbb430db05ba6acb30433f5",
            "value": 2
          }
        },
        "22e96028e29b4ee696edd7f4fb8ddc27": {
          "model_module": "@jupyter-widgets/controls",
          "model_name": "HTMLModel",
          "model_module_version": "1.5.0",
          "state": {
            "_dom_classes": [],
            "_model_module": "@jupyter-widgets/controls",
            "_model_module_version": "1.5.0",
            "_model_name": "HTMLModel",
            "_view_count": null,
            "_view_module": "@jupyter-widgets/controls",
            "_view_module_version": "1.5.0",
            "_view_name": "HTMLView",
            "description": "",
            "description_tooltip": null,
            "layout": "IPY_MODEL_a49648aa749a4cef82f1a375969e6984",
            "placeholder": "​",
            "style": "IPY_MODEL_5db0605cbdb34ee0a2d4ad8a561eded8",
            "value": " 2/2 [00:20&lt;00:00,  8.37s/it]"
          }
        },
        "475698cbdefd423ab4695e05364bad2e": {
          "model_module": "@jupyter-widgets/base",
          "model_name": "LayoutModel",
          "model_module_version": "1.2.0",
          "state": {
            "_model_module": "@jupyter-widgets/base",
            "_model_module_version": "1.2.0",
            "_model_name": "LayoutModel",
            "_view_count": null,
            "_view_module": "@jupyter-widgets/base",
            "_view_module_version": "1.2.0",
            "_view_name": "LayoutView",
            "align_content": null,
            "align_items": null,
            "align_self": null,
            "border": null,
            "bottom": null,
            "display": null,
            "flex": null,
            "flex_flow": null,
            "grid_area": null,
            "grid_auto_columns": null,
            "grid_auto_flow": null,
            "grid_auto_rows": null,
            "grid_column": null,
            "grid_gap": null,
            "grid_row": null,
            "grid_template_areas": null,
            "grid_template_columns": null,
            "grid_template_rows": null,
            "height": null,
            "justify_content": null,
            "justify_items": null,
            "left": null,
            "margin": null,
            "max_height": null,
            "max_width": null,
            "min_height": null,
            "min_width": null,
            "object_fit": null,
            "object_position": null,
            "order": null,
            "overflow": null,
            "overflow_x": null,
            "overflow_y": null,
            "padding": null,
            "right": null,
            "top": null,
            "visibility": null,
            "width": null
          }
        },
        "126aea9bdb794705972fe3c3bcde15e9": {
          "model_module": "@jupyter-widgets/base",
          "model_name": "LayoutModel",
          "model_module_version": "1.2.0",
          "state": {
            "_model_module": "@jupyter-widgets/base",
            "_model_module_version": "1.2.0",
            "_model_name": "LayoutModel",
            "_view_count": null,
            "_view_module": "@jupyter-widgets/base",
            "_view_module_version": "1.2.0",
            "_view_name": "LayoutView",
            "align_content": null,
            "align_items": null,
            "align_self": null,
            "border": null,
            "bottom": null,
            "display": null,
            "flex": null,
            "flex_flow": null,
            "grid_area": null,
            "grid_auto_columns": null,
            "grid_auto_flow": null,
            "grid_auto_rows": null,
            "grid_column": null,
            "grid_gap": null,
            "grid_row": null,
            "grid_template_areas": null,
            "grid_template_columns": null,
            "grid_template_rows": null,
            "height": null,
            "justify_content": null,
            "justify_items": null,
            "left": null,
            "margin": null,
            "max_height": null,
            "max_width": null,
            "min_height": null,
            "min_width": null,
            "object_fit": null,
            "object_position": null,
            "order": null,
            "overflow": null,
            "overflow_x": null,
            "overflow_y": null,
            "padding": null,
            "right": null,
            "top": null,
            "visibility": null,
            "width": null
          }
        },
        "feb25338b75b4074bc5cdd626df64b9d": {
          "model_module": "@jupyter-widgets/controls",
          "model_name": "DescriptionStyleModel",
          "model_module_version": "1.5.0",
          "state": {
            "_model_module": "@jupyter-widgets/controls",
            "_model_module_version": "1.5.0",
            "_model_name": "DescriptionStyleModel",
            "_view_count": null,
            "_view_module": "@jupyter-widgets/base",
            "_view_module_version": "1.2.0",
            "_view_name": "StyleView",
            "description_width": ""
          }
        },
        "bead41676198422a86506ab71a1f08ac": {
          "model_module": "@jupyter-widgets/base",
          "model_name": "LayoutModel",
          "model_module_version": "1.2.0",
          "state": {
            "_model_module": "@jupyter-widgets/base",
            "_model_module_version": "1.2.0",
            "_model_name": "LayoutModel",
            "_view_count": null,
            "_view_module": "@jupyter-widgets/base",
            "_view_module_version": "1.2.0",
            "_view_name": "LayoutView",
            "align_content": null,
            "align_items": null,
            "align_self": null,
            "border": null,
            "bottom": null,
            "display": null,
            "flex": null,
            "flex_flow": null,
            "grid_area": null,
            "grid_auto_columns": null,
            "grid_auto_flow": null,
            "grid_auto_rows": null,
            "grid_column": null,
            "grid_gap": null,
            "grid_row": null,
            "grid_template_areas": null,
            "grid_template_columns": null,
            "grid_template_rows": null,
            "height": null,
            "justify_content": null,
            "justify_items": null,
            "left": null,
            "margin": null,
            "max_height": null,
            "max_width": null,
            "min_height": null,
            "min_width": null,
            "object_fit": null,
            "object_position": null,
            "order": null,
            "overflow": null,
            "overflow_x": null,
            "overflow_y": null,
            "padding": null,
            "right": null,
            "top": null,
            "visibility": null,
            "width": null
          }
        },
        "fb5876f9acbb430db05ba6acb30433f5": {
          "model_module": "@jupyter-widgets/controls",
          "model_name": "ProgressStyleModel",
          "model_module_version": "1.5.0",
          "state": {
            "_model_module": "@jupyter-widgets/controls",
            "_model_module_version": "1.5.0",
            "_model_name": "ProgressStyleModel",
            "_view_count": null,
            "_view_module": "@jupyter-widgets/base",
            "_view_module_version": "1.2.0",
            "_view_name": "StyleView",
            "bar_color": null,
            "description_width": ""
          }
        },
        "a49648aa749a4cef82f1a375969e6984": {
          "model_module": "@jupyter-widgets/base",
          "model_name": "LayoutModel",
          "model_module_version": "1.2.0",
          "state": {
            "_model_module": "@jupyter-widgets/base",
            "_model_module_version": "1.2.0",
            "_model_name": "LayoutModel",
            "_view_count": null,
            "_view_module": "@jupyter-widgets/base",
            "_view_module_version": "1.2.0",
            "_view_name": "LayoutView",
            "align_content": null,
            "align_items": null,
            "align_self": null,
            "border": null,
            "bottom": null,
            "display": null,
            "flex": null,
            "flex_flow": null,
            "grid_area": null,
            "grid_auto_columns": null,
            "grid_auto_flow": null,
            "grid_auto_rows": null,
            "grid_column": null,
            "grid_gap": null,
            "grid_row": null,
            "grid_template_areas": null,
            "grid_template_columns": null,
            "grid_template_rows": null,
            "height": null,
            "justify_content": null,
            "justify_items": null,
            "left": null,
            "margin": null,
            "max_height": null,
            "max_width": null,
            "min_height": null,
            "min_width": null,
            "object_fit": null,
            "object_position": null,
            "order": null,
            "overflow": null,
            "overflow_x": null,
            "overflow_y": null,
            "padding": null,
            "right": null,
            "top": null,
            "visibility": null,
            "width": null
          }
        },
        "5db0605cbdb34ee0a2d4ad8a561eded8": {
          "model_module": "@jupyter-widgets/controls",
          "model_name": "DescriptionStyleModel",
          "model_module_version": "1.5.0",
          "state": {
            "_model_module": "@jupyter-widgets/controls",
            "_model_module_version": "1.5.0",
            "_model_name": "DescriptionStyleModel",
            "_view_count": null,
            "_view_module": "@jupyter-widgets/base",
            "_view_module_version": "1.2.0",
            "_view_name": "StyleView",
            "description_width": ""
          }
        },
        "8561ee237e0e4bfeb78c569e9ca902ff": {
          "model_module": "@jupyter-widgets/controls",
          "model_name": "HBoxModel",
          "model_module_version": "1.5.0",
          "state": {
            "_dom_classes": [],
            "_model_module": "@jupyter-widgets/controls",
            "_model_module_version": "1.5.0",
            "_model_name": "HBoxModel",
            "_view_count": null,
            "_view_module": "@jupyter-widgets/controls",
            "_view_module_version": "1.5.0",
            "_view_name": "HBoxView",
            "box_style": "",
            "children": [
              "IPY_MODEL_004f7e92ae02460e924235c03fba9d1c",
              "IPY_MODEL_1dd1326c24fb4277b451d594c96101fe",
              "IPY_MODEL_1c6c728f91194758b202c381618c941a"
            ],
            "layout": "IPY_MODEL_794dae968ab04ef0b0999eec9f9b4175"
          }
        },
        "004f7e92ae02460e924235c03fba9d1c": {
          "model_module": "@jupyter-widgets/controls",
          "model_name": "HTMLModel",
          "model_module_version": "1.5.0",
          "state": {
            "_dom_classes": [],
            "_model_module": "@jupyter-widgets/controls",
            "_model_module_version": "1.5.0",
            "_model_name": "HTMLModel",
            "_view_count": null,
            "_view_module": "@jupyter-widgets/controls",
            "_view_module_version": "1.5.0",
            "_view_name": "HTMLView",
            "description": "",
            "description_tooltip": null,
            "layout": "IPY_MODEL_051068050f8448fb911e99fd4926622a",
            "placeholder": "​",
            "style": "IPY_MODEL_5dfd0774c0ee48c6888e98e97a66ff40",
            "value": "Map: 100%"
          }
        },
        "1dd1326c24fb4277b451d594c96101fe": {
          "model_module": "@jupyter-widgets/controls",
          "model_name": "FloatProgressModel",
          "model_module_version": "1.5.0",
          "state": {
            "_dom_classes": [],
            "_model_module": "@jupyter-widgets/controls",
            "_model_module_version": "1.5.0",
            "_model_name": "FloatProgressModel",
            "_view_count": null,
            "_view_module": "@jupyter-widgets/controls",
            "_view_module_version": "1.5.0",
            "_view_name": "ProgressView",
            "bar_style": "success",
            "description": "",
            "description_tooltip": null,
            "layout": "IPY_MODEL_fc56fa1bc7d846628c0a66af2d0fea67",
            "max": 8659,
            "min": 0,
            "orientation": "horizontal",
            "style": "IPY_MODEL_f19855538a7641e187def6578845f97d",
            "value": 8659
          }
        },
        "1c6c728f91194758b202c381618c941a": {
          "model_module": "@jupyter-widgets/controls",
          "model_name": "HTMLModel",
          "model_module_version": "1.5.0",
          "state": {
            "_dom_classes": [],
            "_model_module": "@jupyter-widgets/controls",
            "_model_module_version": "1.5.0",
            "_model_name": "HTMLModel",
            "_view_count": null,
            "_view_module": "@jupyter-widgets/controls",
            "_view_module_version": "1.5.0",
            "_view_name": "HTMLView",
            "description": "",
            "description_tooltip": null,
            "layout": "IPY_MODEL_da8d2038696d4de392cbe9fbc6df0fa3",
            "placeholder": "​",
            "style": "IPY_MODEL_217b8ef79e344e1d94df7d4471602606",
            "value": " 8659/8659 [00:00&lt;00:00, 13168.75 examples/s]"
          }
        },
        "794dae968ab04ef0b0999eec9f9b4175": {
          "model_module": "@jupyter-widgets/base",
          "model_name": "LayoutModel",
          "model_module_version": "1.2.0",
          "state": {
            "_model_module": "@jupyter-widgets/base",
            "_model_module_version": "1.2.0",
            "_model_name": "LayoutModel",
            "_view_count": null,
            "_view_module": "@jupyter-widgets/base",
            "_view_module_version": "1.2.0",
            "_view_name": "LayoutView",
            "align_content": null,
            "align_items": null,
            "align_self": null,
            "border": null,
            "bottom": null,
            "display": null,
            "flex": null,
            "flex_flow": null,
            "grid_area": null,
            "grid_auto_columns": null,
            "grid_auto_flow": null,
            "grid_auto_rows": null,
            "grid_column": null,
            "grid_gap": null,
            "grid_row": null,
            "grid_template_areas": null,
            "grid_template_columns": null,
            "grid_template_rows": null,
            "height": null,
            "justify_content": null,
            "justify_items": null,
            "left": null,
            "margin": null,
            "max_height": null,
            "max_width": null,
            "min_height": null,
            "min_width": null,
            "object_fit": null,
            "object_position": null,
            "order": null,
            "overflow": null,
            "overflow_x": null,
            "overflow_y": null,
            "padding": null,
            "right": null,
            "top": null,
            "visibility": null,
            "width": null
          }
        },
        "051068050f8448fb911e99fd4926622a": {
          "model_module": "@jupyter-widgets/base",
          "model_name": "LayoutModel",
          "model_module_version": "1.2.0",
          "state": {
            "_model_module": "@jupyter-widgets/base",
            "_model_module_version": "1.2.0",
            "_model_name": "LayoutModel",
            "_view_count": null,
            "_view_module": "@jupyter-widgets/base",
            "_view_module_version": "1.2.0",
            "_view_name": "LayoutView",
            "align_content": null,
            "align_items": null,
            "align_self": null,
            "border": null,
            "bottom": null,
            "display": null,
            "flex": null,
            "flex_flow": null,
            "grid_area": null,
            "grid_auto_columns": null,
            "grid_auto_flow": null,
            "grid_auto_rows": null,
            "grid_column": null,
            "grid_gap": null,
            "grid_row": null,
            "grid_template_areas": null,
            "grid_template_columns": null,
            "grid_template_rows": null,
            "height": null,
            "justify_content": null,
            "justify_items": null,
            "left": null,
            "margin": null,
            "max_height": null,
            "max_width": null,
            "min_height": null,
            "min_width": null,
            "object_fit": null,
            "object_position": null,
            "order": null,
            "overflow": null,
            "overflow_x": null,
            "overflow_y": null,
            "padding": null,
            "right": null,
            "top": null,
            "visibility": null,
            "width": null
          }
        },
        "5dfd0774c0ee48c6888e98e97a66ff40": {
          "model_module": "@jupyter-widgets/controls",
          "model_name": "DescriptionStyleModel",
          "model_module_version": "1.5.0",
          "state": {
            "_model_module": "@jupyter-widgets/controls",
            "_model_module_version": "1.5.0",
            "_model_name": "DescriptionStyleModel",
            "_view_count": null,
            "_view_module": "@jupyter-widgets/base",
            "_view_module_version": "1.2.0",
            "_view_name": "StyleView",
            "description_width": ""
          }
        },
        "fc56fa1bc7d846628c0a66af2d0fea67": {
          "model_module": "@jupyter-widgets/base",
          "model_name": "LayoutModel",
          "model_module_version": "1.2.0",
          "state": {
            "_model_module": "@jupyter-widgets/base",
            "_model_module_version": "1.2.0",
            "_model_name": "LayoutModel",
            "_view_count": null,
            "_view_module": "@jupyter-widgets/base",
            "_view_module_version": "1.2.0",
            "_view_name": "LayoutView",
            "align_content": null,
            "align_items": null,
            "align_self": null,
            "border": null,
            "bottom": null,
            "display": null,
            "flex": null,
            "flex_flow": null,
            "grid_area": null,
            "grid_auto_columns": null,
            "grid_auto_flow": null,
            "grid_auto_rows": null,
            "grid_column": null,
            "grid_gap": null,
            "grid_row": null,
            "grid_template_areas": null,
            "grid_template_columns": null,
            "grid_template_rows": null,
            "height": null,
            "justify_content": null,
            "justify_items": null,
            "left": null,
            "margin": null,
            "max_height": null,
            "max_width": null,
            "min_height": null,
            "min_width": null,
            "object_fit": null,
            "object_position": null,
            "order": null,
            "overflow": null,
            "overflow_x": null,
            "overflow_y": null,
            "padding": null,
            "right": null,
            "top": null,
            "visibility": null,
            "width": null
          }
        },
        "f19855538a7641e187def6578845f97d": {
          "model_module": "@jupyter-widgets/controls",
          "model_name": "ProgressStyleModel",
          "model_module_version": "1.5.0",
          "state": {
            "_model_module": "@jupyter-widgets/controls",
            "_model_module_version": "1.5.0",
            "_model_name": "ProgressStyleModel",
            "_view_count": null,
            "_view_module": "@jupyter-widgets/base",
            "_view_module_version": "1.2.0",
            "_view_name": "StyleView",
            "bar_color": null,
            "description_width": ""
          }
        },
        "da8d2038696d4de392cbe9fbc6df0fa3": {
          "model_module": "@jupyter-widgets/base",
          "model_name": "LayoutModel",
          "model_module_version": "1.2.0",
          "state": {
            "_model_module": "@jupyter-widgets/base",
            "_model_module_version": "1.2.0",
            "_model_name": "LayoutModel",
            "_view_count": null,
            "_view_module": "@jupyter-widgets/base",
            "_view_module_version": "1.2.0",
            "_view_name": "LayoutView",
            "align_content": null,
            "align_items": null,
            "align_self": null,
            "border": null,
            "bottom": null,
            "display": null,
            "flex": null,
            "flex_flow": null,
            "grid_area": null,
            "grid_auto_columns": null,
            "grid_auto_flow": null,
            "grid_auto_rows": null,
            "grid_column": null,
            "grid_gap": null,
            "grid_row": null,
            "grid_template_areas": null,
            "grid_template_columns": null,
            "grid_template_rows": null,
            "height": null,
            "justify_content": null,
            "justify_items": null,
            "left": null,
            "margin": null,
            "max_height": null,
            "max_width": null,
            "min_height": null,
            "min_width": null,
            "object_fit": null,
            "object_position": null,
            "order": null,
            "overflow": null,
            "overflow_x": null,
            "overflow_y": null,
            "padding": null,
            "right": null,
            "top": null,
            "visibility": null,
            "width": null
          }
        },
        "217b8ef79e344e1d94df7d4471602606": {
          "model_module": "@jupyter-widgets/controls",
          "model_name": "DescriptionStyleModel",
          "model_module_version": "1.5.0",
          "state": {
            "_model_module": "@jupyter-widgets/controls",
            "_model_module_version": "1.5.0",
            "_model_name": "DescriptionStyleModel",
            "_view_count": null,
            "_view_module": "@jupyter-widgets/base",
            "_view_module_version": "1.2.0",
            "_view_name": "StyleView",
            "description_width": ""
          }
        },
        "226137ad441c49369cdf69241dced6ae": {
          "model_module": "@jupyter-widgets/controls",
          "model_name": "HBoxModel",
          "model_module_version": "1.5.0",
          "state": {
            "_dom_classes": [],
            "_model_module": "@jupyter-widgets/controls",
            "_model_module_version": "1.5.0",
            "_model_name": "HBoxModel",
            "_view_count": null,
            "_view_module": "@jupyter-widgets/controls",
            "_view_module_version": "1.5.0",
            "_view_name": "HBoxView",
            "box_style": "",
            "children": [
              "IPY_MODEL_36a64700c3f245beb91975f072e4cf87",
              "IPY_MODEL_d04991f3d96242a993390f96b9049a1d",
              "IPY_MODEL_a9dd12b745aa4f779f8328c6d654ef5a"
            ],
            "layout": "IPY_MODEL_4ed2b86987e947829d96442a48c1fe4d"
          }
        },
        "36a64700c3f245beb91975f072e4cf87": {
          "model_module": "@jupyter-widgets/controls",
          "model_name": "HTMLModel",
          "model_module_version": "1.5.0",
          "state": {
            "_dom_classes": [],
            "_model_module": "@jupyter-widgets/controls",
            "_model_module_version": "1.5.0",
            "_model_name": "HTMLModel",
            "_view_count": null,
            "_view_module": "@jupyter-widgets/controls",
            "_view_module_version": "1.5.0",
            "_view_name": "HTMLView",
            "description": "",
            "description_tooltip": null,
            "layout": "IPY_MODEL_7d00924a953f48f889bcd0f1276fae59",
            "placeholder": "​",
            "style": "IPY_MODEL_5a4f300c946d460b806a3f07155141d1",
            "value": "Map: 100%"
          }
        },
        "d04991f3d96242a993390f96b9049a1d": {
          "model_module": "@jupyter-widgets/controls",
          "model_name": "FloatProgressModel",
          "model_module_version": "1.5.0",
          "state": {
            "_dom_classes": [],
            "_model_module": "@jupyter-widgets/controls",
            "_model_module_version": "1.5.0",
            "_model_name": "FloatProgressModel",
            "_view_count": null,
            "_view_module": "@jupyter-widgets/controls",
            "_view_module_version": "1.5.0",
            "_view_name": "ProgressView",
            "bar_style": "success",
            "description": "",
            "description_tooltip": null,
            "layout": "IPY_MODEL_d164b5da4f724c198b87ae0ab6c7c643",
            "max": 800,
            "min": 0,
            "orientation": "horizontal",
            "style": "IPY_MODEL_c5e44d15d81f48c4b3790bc39c04bc1a",
            "value": 800
          }
        },
        "a9dd12b745aa4f779f8328c6d654ef5a": {
          "model_module": "@jupyter-widgets/controls",
          "model_name": "HTMLModel",
          "model_module_version": "1.5.0",
          "state": {
            "_dom_classes": [],
            "_model_module": "@jupyter-widgets/controls",
            "_model_module_version": "1.5.0",
            "_model_name": "HTMLModel",
            "_view_count": null,
            "_view_module": "@jupyter-widgets/controls",
            "_view_module_version": "1.5.0",
            "_view_name": "HTMLView",
            "description": "",
            "description_tooltip": null,
            "layout": "IPY_MODEL_52ec03bdada64b8b8a3e0f1601787053",
            "placeholder": "​",
            "style": "IPY_MODEL_7b5c8c9a1e6b4b5099423bc5c46333f8",
            "value": " 800/800 [00:00&lt;00:00, 1875.39 examples/s]"
          }
        },
        "4ed2b86987e947829d96442a48c1fe4d": {
          "model_module": "@jupyter-widgets/base",
          "model_name": "LayoutModel",
          "model_module_version": "1.2.0",
          "state": {
            "_model_module": "@jupyter-widgets/base",
            "_model_module_version": "1.2.0",
            "_model_name": "LayoutModel",
            "_view_count": null,
            "_view_module": "@jupyter-widgets/base",
            "_view_module_version": "1.2.0",
            "_view_name": "LayoutView",
            "align_content": null,
            "align_items": null,
            "align_self": null,
            "border": null,
            "bottom": null,
            "display": null,
            "flex": null,
            "flex_flow": null,
            "grid_area": null,
            "grid_auto_columns": null,
            "grid_auto_flow": null,
            "grid_auto_rows": null,
            "grid_column": null,
            "grid_gap": null,
            "grid_row": null,
            "grid_template_areas": null,
            "grid_template_columns": null,
            "grid_template_rows": null,
            "height": null,
            "justify_content": null,
            "justify_items": null,
            "left": null,
            "margin": null,
            "max_height": null,
            "max_width": null,
            "min_height": null,
            "min_width": null,
            "object_fit": null,
            "object_position": null,
            "order": null,
            "overflow": null,
            "overflow_x": null,
            "overflow_y": null,
            "padding": null,
            "right": null,
            "top": null,
            "visibility": null,
            "width": null
          }
        },
        "7d00924a953f48f889bcd0f1276fae59": {
          "model_module": "@jupyter-widgets/base",
          "model_name": "LayoutModel",
          "model_module_version": "1.2.0",
          "state": {
            "_model_module": "@jupyter-widgets/base",
            "_model_module_version": "1.2.0",
            "_model_name": "LayoutModel",
            "_view_count": null,
            "_view_module": "@jupyter-widgets/base",
            "_view_module_version": "1.2.0",
            "_view_name": "LayoutView",
            "align_content": null,
            "align_items": null,
            "align_self": null,
            "border": null,
            "bottom": null,
            "display": null,
            "flex": null,
            "flex_flow": null,
            "grid_area": null,
            "grid_auto_columns": null,
            "grid_auto_flow": null,
            "grid_auto_rows": null,
            "grid_column": null,
            "grid_gap": null,
            "grid_row": null,
            "grid_template_areas": null,
            "grid_template_columns": null,
            "grid_template_rows": null,
            "height": null,
            "justify_content": null,
            "justify_items": null,
            "left": null,
            "margin": null,
            "max_height": null,
            "max_width": null,
            "min_height": null,
            "min_width": null,
            "object_fit": null,
            "object_position": null,
            "order": null,
            "overflow": null,
            "overflow_x": null,
            "overflow_y": null,
            "padding": null,
            "right": null,
            "top": null,
            "visibility": null,
            "width": null
          }
        },
        "5a4f300c946d460b806a3f07155141d1": {
          "model_module": "@jupyter-widgets/controls",
          "model_name": "DescriptionStyleModel",
          "model_module_version": "1.5.0",
          "state": {
            "_model_module": "@jupyter-widgets/controls",
            "_model_module_version": "1.5.0",
            "_model_name": "DescriptionStyleModel",
            "_view_count": null,
            "_view_module": "@jupyter-widgets/base",
            "_view_module_version": "1.2.0",
            "_view_name": "StyleView",
            "description_width": ""
          }
        },
        "d164b5da4f724c198b87ae0ab6c7c643": {
          "model_module": "@jupyter-widgets/base",
          "model_name": "LayoutModel",
          "model_module_version": "1.2.0",
          "state": {
            "_model_module": "@jupyter-widgets/base",
            "_model_module_version": "1.2.0",
            "_model_name": "LayoutModel",
            "_view_count": null,
            "_view_module": "@jupyter-widgets/base",
            "_view_module_version": "1.2.0",
            "_view_name": "LayoutView",
            "align_content": null,
            "align_items": null,
            "align_self": null,
            "border": null,
            "bottom": null,
            "display": null,
            "flex": null,
            "flex_flow": null,
            "grid_area": null,
            "grid_auto_columns": null,
            "grid_auto_flow": null,
            "grid_auto_rows": null,
            "grid_column": null,
            "grid_gap": null,
            "grid_row": null,
            "grid_template_areas": null,
            "grid_template_columns": null,
            "grid_template_rows": null,
            "height": null,
            "justify_content": null,
            "justify_items": null,
            "left": null,
            "margin": null,
            "max_height": null,
            "max_width": null,
            "min_height": null,
            "min_width": null,
            "object_fit": null,
            "object_position": null,
            "order": null,
            "overflow": null,
            "overflow_x": null,
            "overflow_y": null,
            "padding": null,
            "right": null,
            "top": null,
            "visibility": null,
            "width": null
          }
        },
        "c5e44d15d81f48c4b3790bc39c04bc1a": {
          "model_module": "@jupyter-widgets/controls",
          "model_name": "ProgressStyleModel",
          "model_module_version": "1.5.0",
          "state": {
            "_model_module": "@jupyter-widgets/controls",
            "_model_module_version": "1.5.0",
            "_model_name": "ProgressStyleModel",
            "_view_count": null,
            "_view_module": "@jupyter-widgets/base",
            "_view_module_version": "1.2.0",
            "_view_name": "StyleView",
            "bar_color": null,
            "description_width": ""
          }
        },
        "52ec03bdada64b8b8a3e0f1601787053": {
          "model_module": "@jupyter-widgets/base",
          "model_name": "LayoutModel",
          "model_module_version": "1.2.0",
          "state": {
            "_model_module": "@jupyter-widgets/base",
            "_model_module_version": "1.2.0",
            "_model_name": "LayoutModel",
            "_view_count": null,
            "_view_module": "@jupyter-widgets/base",
            "_view_module_version": "1.2.0",
            "_view_name": "LayoutView",
            "align_content": null,
            "align_items": null,
            "align_self": null,
            "border": null,
            "bottom": null,
            "display": null,
            "flex": null,
            "flex_flow": null,
            "grid_area": null,
            "grid_auto_columns": null,
            "grid_auto_flow": null,
            "grid_auto_rows": null,
            "grid_column": null,
            "grid_gap": null,
            "grid_row": null,
            "grid_template_areas": null,
            "grid_template_columns": null,
            "grid_template_rows": null,
            "height": null,
            "justify_content": null,
            "justify_items": null,
            "left": null,
            "margin": null,
            "max_height": null,
            "max_width": null,
            "min_height": null,
            "min_width": null,
            "object_fit": null,
            "object_position": null,
            "order": null,
            "overflow": null,
            "overflow_x": null,
            "overflow_y": null,
            "padding": null,
            "right": null,
            "top": null,
            "visibility": null,
            "width": null
          }
        },
        "7b5c8c9a1e6b4b5099423bc5c46333f8": {
          "model_module": "@jupyter-widgets/controls",
          "model_name": "DescriptionStyleModel",
          "model_module_version": "1.5.0",
          "state": {
            "_model_module": "@jupyter-widgets/controls",
            "_model_module_version": "1.5.0",
            "_model_name": "DescriptionStyleModel",
            "_view_count": null,
            "_view_module": "@jupyter-widgets/base",
            "_view_module_version": "1.2.0",
            "_view_name": "StyleView",
            "description_width": ""
          }
        },
        "1c688dacdace4235905ea4eb8bc90fdb": {
          "model_module": "@jupyter-widgets/controls",
          "model_name": "HBoxModel",
          "model_module_version": "1.5.0",
          "state": {
            "_dom_classes": [],
            "_model_module": "@jupyter-widgets/controls",
            "_model_module_version": "1.5.0",
            "_model_name": "HBoxModel",
            "_view_count": null,
            "_view_module": "@jupyter-widgets/controls",
            "_view_module_version": "1.5.0",
            "_view_name": "HBoxView",
            "box_style": "",
            "children": [
              "IPY_MODEL_b5c2a073cbe04559b1e8a81a140c245e",
              "IPY_MODEL_46056a1238994035a9689b77b8742f60",
              "IPY_MODEL_dc4c53095f594e0ea961bd12a55d679d"
            ],
            "layout": "IPY_MODEL_bd7dab8abab54ddb8c8073130f05041e"
          }
        },
        "b5c2a073cbe04559b1e8a81a140c245e": {
          "model_module": "@jupyter-widgets/controls",
          "model_name": "HTMLModel",
          "model_module_version": "1.5.0",
          "state": {
            "_dom_classes": [],
            "_model_module": "@jupyter-widgets/controls",
            "_model_module_version": "1.5.0",
            "_model_name": "HTMLModel",
            "_view_count": null,
            "_view_module": "@jupyter-widgets/controls",
            "_view_module_version": "1.5.0",
            "_view_name": "HTMLView",
            "description": "",
            "description_tooltip": null,
            "layout": "IPY_MODEL_1bb2cc5a9eeb4b06b47e93dc49723bb0",
            "placeholder": "​",
            "style": "IPY_MODEL_63e67506e9c74457b4bceff5a7ad5187",
            "value": "Loading checkpoint shards: 100%"
          }
        },
        "46056a1238994035a9689b77b8742f60": {
          "model_module": "@jupyter-widgets/controls",
          "model_name": "FloatProgressModel",
          "model_module_version": "1.5.0",
          "state": {
            "_dom_classes": [],
            "_model_module": "@jupyter-widgets/controls",
            "_model_module_version": "1.5.0",
            "_model_name": "FloatProgressModel",
            "_view_count": null,
            "_view_module": "@jupyter-widgets/controls",
            "_view_module_version": "1.5.0",
            "_view_name": "ProgressView",
            "bar_style": "success",
            "description": "",
            "description_tooltip": null,
            "layout": "IPY_MODEL_218a795f7b744f9da7b3913f355f70e9",
            "max": 2,
            "min": 0,
            "orientation": "horizontal",
            "style": "IPY_MODEL_91cd5207845648b6a8aecd9959213257",
            "value": 2
          }
        },
        "dc4c53095f594e0ea961bd12a55d679d": {
          "model_module": "@jupyter-widgets/controls",
          "model_name": "HTMLModel",
          "model_module_version": "1.5.0",
          "state": {
            "_dom_classes": [],
            "_model_module": "@jupyter-widgets/controls",
            "_model_module_version": "1.5.0",
            "_model_name": "HTMLModel",
            "_view_count": null,
            "_view_module": "@jupyter-widgets/controls",
            "_view_module_version": "1.5.0",
            "_view_name": "HTMLView",
            "description": "",
            "description_tooltip": null,
            "layout": "IPY_MODEL_d510320f882345799b48db1f7dd142e3",
            "placeholder": "​",
            "style": "IPY_MODEL_ef665e83b12e4180bb74eb30bb193c87",
            "value": " 2/2 [00:19&lt;00:00,  8.28s/it]"
          }
        },
        "bd7dab8abab54ddb8c8073130f05041e": {
          "model_module": "@jupyter-widgets/base",
          "model_name": "LayoutModel",
          "model_module_version": "1.2.0",
          "state": {
            "_model_module": "@jupyter-widgets/base",
            "_model_module_version": "1.2.0",
            "_model_name": "LayoutModel",
            "_view_count": null,
            "_view_module": "@jupyter-widgets/base",
            "_view_module_version": "1.2.0",
            "_view_name": "LayoutView",
            "align_content": null,
            "align_items": null,
            "align_self": null,
            "border": null,
            "bottom": null,
            "display": null,
            "flex": null,
            "flex_flow": null,
            "grid_area": null,
            "grid_auto_columns": null,
            "grid_auto_flow": null,
            "grid_auto_rows": null,
            "grid_column": null,
            "grid_gap": null,
            "grid_row": null,
            "grid_template_areas": null,
            "grid_template_columns": null,
            "grid_template_rows": null,
            "height": null,
            "justify_content": null,
            "justify_items": null,
            "left": null,
            "margin": null,
            "max_height": null,
            "max_width": null,
            "min_height": null,
            "min_width": null,
            "object_fit": null,
            "object_position": null,
            "order": null,
            "overflow": null,
            "overflow_x": null,
            "overflow_y": null,
            "padding": null,
            "right": null,
            "top": null,
            "visibility": null,
            "width": null
          }
        },
        "1bb2cc5a9eeb4b06b47e93dc49723bb0": {
          "model_module": "@jupyter-widgets/base",
          "model_name": "LayoutModel",
          "model_module_version": "1.2.0",
          "state": {
            "_model_module": "@jupyter-widgets/base",
            "_model_module_version": "1.2.0",
            "_model_name": "LayoutModel",
            "_view_count": null,
            "_view_module": "@jupyter-widgets/base",
            "_view_module_version": "1.2.0",
            "_view_name": "LayoutView",
            "align_content": null,
            "align_items": null,
            "align_self": null,
            "border": null,
            "bottom": null,
            "display": null,
            "flex": null,
            "flex_flow": null,
            "grid_area": null,
            "grid_auto_columns": null,
            "grid_auto_flow": null,
            "grid_auto_rows": null,
            "grid_column": null,
            "grid_gap": null,
            "grid_row": null,
            "grid_template_areas": null,
            "grid_template_columns": null,
            "grid_template_rows": null,
            "height": null,
            "justify_content": null,
            "justify_items": null,
            "left": null,
            "margin": null,
            "max_height": null,
            "max_width": null,
            "min_height": null,
            "min_width": null,
            "object_fit": null,
            "object_position": null,
            "order": null,
            "overflow": null,
            "overflow_x": null,
            "overflow_y": null,
            "padding": null,
            "right": null,
            "top": null,
            "visibility": null,
            "width": null
          }
        },
        "63e67506e9c74457b4bceff5a7ad5187": {
          "model_module": "@jupyter-widgets/controls",
          "model_name": "DescriptionStyleModel",
          "model_module_version": "1.5.0",
          "state": {
            "_model_module": "@jupyter-widgets/controls",
            "_model_module_version": "1.5.0",
            "_model_name": "DescriptionStyleModel",
            "_view_count": null,
            "_view_module": "@jupyter-widgets/base",
            "_view_module_version": "1.2.0",
            "_view_name": "StyleView",
            "description_width": ""
          }
        },
        "218a795f7b744f9da7b3913f355f70e9": {
          "model_module": "@jupyter-widgets/base",
          "model_name": "LayoutModel",
          "model_module_version": "1.2.0",
          "state": {
            "_model_module": "@jupyter-widgets/base",
            "_model_module_version": "1.2.0",
            "_model_name": "LayoutModel",
            "_view_count": null,
            "_view_module": "@jupyter-widgets/base",
            "_view_module_version": "1.2.0",
            "_view_name": "LayoutView",
            "align_content": null,
            "align_items": null,
            "align_self": null,
            "border": null,
            "bottom": null,
            "display": null,
            "flex": null,
            "flex_flow": null,
            "grid_area": null,
            "grid_auto_columns": null,
            "grid_auto_flow": null,
            "grid_auto_rows": null,
            "grid_column": null,
            "grid_gap": null,
            "grid_row": null,
            "grid_template_areas": null,
            "grid_template_columns": null,
            "grid_template_rows": null,
            "height": null,
            "justify_content": null,
            "justify_items": null,
            "left": null,
            "margin": null,
            "max_height": null,
            "max_width": null,
            "min_height": null,
            "min_width": null,
            "object_fit": null,
            "object_position": null,
            "order": null,
            "overflow": null,
            "overflow_x": null,
            "overflow_y": null,
            "padding": null,
            "right": null,
            "top": null,
            "visibility": null,
            "width": null
          }
        },
        "91cd5207845648b6a8aecd9959213257": {
          "model_module": "@jupyter-widgets/controls",
          "model_name": "ProgressStyleModel",
          "model_module_version": "1.5.0",
          "state": {
            "_model_module": "@jupyter-widgets/controls",
            "_model_module_version": "1.5.0",
            "_model_name": "ProgressStyleModel",
            "_view_count": null,
            "_view_module": "@jupyter-widgets/base",
            "_view_module_version": "1.2.0",
            "_view_name": "StyleView",
            "bar_color": null,
            "description_width": ""
          }
        },
        "d510320f882345799b48db1f7dd142e3": {
          "model_module": "@jupyter-widgets/base",
          "model_name": "LayoutModel",
          "model_module_version": "1.2.0",
          "state": {
            "_model_module": "@jupyter-widgets/base",
            "_model_module_version": "1.2.0",
            "_model_name": "LayoutModel",
            "_view_count": null,
            "_view_module": "@jupyter-widgets/base",
            "_view_module_version": "1.2.0",
            "_view_name": "LayoutView",
            "align_content": null,
            "align_items": null,
            "align_self": null,
            "border": null,
            "bottom": null,
            "display": null,
            "flex": null,
            "flex_flow": null,
            "grid_area": null,
            "grid_auto_columns": null,
            "grid_auto_flow": null,
            "grid_auto_rows": null,
            "grid_column": null,
            "grid_gap": null,
            "grid_row": null,
            "grid_template_areas": null,
            "grid_template_columns": null,
            "grid_template_rows": null,
            "height": null,
            "justify_content": null,
            "justify_items": null,
            "left": null,
            "margin": null,
            "max_height": null,
            "max_width": null,
            "min_height": null,
            "min_width": null,
            "object_fit": null,
            "object_position": null,
            "order": null,
            "overflow": null,
            "overflow_x": null,
            "overflow_y": null,
            "padding": null,
            "right": null,
            "top": null,
            "visibility": null,
            "width": null
          }
        },
        "ef665e83b12e4180bb74eb30bb193c87": {
          "model_module": "@jupyter-widgets/controls",
          "model_name": "DescriptionStyleModel",
          "model_module_version": "1.5.0",
          "state": {
            "_model_module": "@jupyter-widgets/controls",
            "_model_module_version": "1.5.0",
            "_model_name": "DescriptionStyleModel",
            "_view_count": null,
            "_view_module": "@jupyter-widgets/base",
            "_view_module_version": "1.2.0",
            "_view_name": "StyleView",
            "description_width": ""
          }
        },
        "3e0345316c7a43258b3e1eeb9802a3a7": {
          "model_module": "@jupyter-widgets/controls",
          "model_name": "HBoxModel",
          "model_module_version": "1.5.0",
          "state": {
            "_dom_classes": [],
            "_model_module": "@jupyter-widgets/controls",
            "_model_module_version": "1.5.0",
            "_model_name": "HBoxModel",
            "_view_count": null,
            "_view_module": "@jupyter-widgets/controls",
            "_view_module_version": "1.5.0",
            "_view_name": "HBoxView",
            "box_style": "",
            "children": [
              "IPY_MODEL_bc391f04357046df951e3493e17f2d04",
              "IPY_MODEL_c4d01634c6d74ca7a2f5b1fdaa34264d",
              "IPY_MODEL_090321a2a6bd40fd8633922dd84fe91a"
            ],
            "layout": "IPY_MODEL_e9bd50ca9d3149ef9a6e730fb7fafad0"
          }
        },
        "bc391f04357046df951e3493e17f2d04": {
          "model_module": "@jupyter-widgets/controls",
          "model_name": "HTMLModel",
          "model_module_version": "1.5.0",
          "state": {
            "_dom_classes": [],
            "_model_module": "@jupyter-widgets/controls",
            "_model_module_version": "1.5.0",
            "_model_name": "HTMLModel",
            "_view_count": null,
            "_view_module": "@jupyter-widgets/controls",
            "_view_module_version": "1.5.0",
            "_view_name": "HTMLView",
            "description": "",
            "description_tooltip": null,
            "layout": "IPY_MODEL_7615b91f2de343d3be475b8dbcf4e5e0",
            "placeholder": "​",
            "style": "IPY_MODEL_dea03f196e674ba19414dde49998e542",
            "value": "Map: 100%"
          }
        },
        "c4d01634c6d74ca7a2f5b1fdaa34264d": {
          "model_module": "@jupyter-widgets/controls",
          "model_name": "FloatProgressModel",
          "model_module_version": "1.5.0",
          "state": {
            "_dom_classes": [],
            "_model_module": "@jupyter-widgets/controls",
            "_model_module_version": "1.5.0",
            "_model_name": "FloatProgressModel",
            "_view_count": null,
            "_view_module": "@jupyter-widgets/controls",
            "_view_module_version": "1.5.0",
            "_view_name": "ProgressView",
            "bar_style": "success",
            "description": "",
            "description_tooltip": null,
            "layout": "IPY_MODEL_56e436dc2b184ad9879c4d1806cba3f3",
            "max": 800,
            "min": 0,
            "orientation": "horizontal",
            "style": "IPY_MODEL_3b81776a26cc4726b57ff20c8cea5732",
            "value": 800
          }
        },
        "090321a2a6bd40fd8633922dd84fe91a": {
          "model_module": "@jupyter-widgets/controls",
          "model_name": "HTMLModel",
          "model_module_version": "1.5.0",
          "state": {
            "_dom_classes": [],
            "_model_module": "@jupyter-widgets/controls",
            "_model_module_version": "1.5.0",
            "_model_name": "HTMLModel",
            "_view_count": null,
            "_view_module": "@jupyter-widgets/controls",
            "_view_module_version": "1.5.0",
            "_view_name": "HTMLView",
            "description": "",
            "description_tooltip": null,
            "layout": "IPY_MODEL_3f009652c4184bcfa40494c9fbb97019",
            "placeholder": "​",
            "style": "IPY_MODEL_b377ce552d6e4b948f4743dade96d4c7",
            "value": " 800/800 [00:00&lt;00:00, 3489.71 examples/s]"
          }
        },
        "e9bd50ca9d3149ef9a6e730fb7fafad0": {
          "model_module": "@jupyter-widgets/base",
          "model_name": "LayoutModel",
          "model_module_version": "1.2.0",
          "state": {
            "_model_module": "@jupyter-widgets/base",
            "_model_module_version": "1.2.0",
            "_model_name": "LayoutModel",
            "_view_count": null,
            "_view_module": "@jupyter-widgets/base",
            "_view_module_version": "1.2.0",
            "_view_name": "LayoutView",
            "align_content": null,
            "align_items": null,
            "align_self": null,
            "border": null,
            "bottom": null,
            "display": null,
            "flex": null,
            "flex_flow": null,
            "grid_area": null,
            "grid_auto_columns": null,
            "grid_auto_flow": null,
            "grid_auto_rows": null,
            "grid_column": null,
            "grid_gap": null,
            "grid_row": null,
            "grid_template_areas": null,
            "grid_template_columns": null,
            "grid_template_rows": null,
            "height": null,
            "justify_content": null,
            "justify_items": null,
            "left": null,
            "margin": null,
            "max_height": null,
            "max_width": null,
            "min_height": null,
            "min_width": null,
            "object_fit": null,
            "object_position": null,
            "order": null,
            "overflow": null,
            "overflow_x": null,
            "overflow_y": null,
            "padding": null,
            "right": null,
            "top": null,
            "visibility": null,
            "width": null
          }
        },
        "7615b91f2de343d3be475b8dbcf4e5e0": {
          "model_module": "@jupyter-widgets/base",
          "model_name": "LayoutModel",
          "model_module_version": "1.2.0",
          "state": {
            "_model_module": "@jupyter-widgets/base",
            "_model_module_version": "1.2.0",
            "_model_name": "LayoutModel",
            "_view_count": null,
            "_view_module": "@jupyter-widgets/base",
            "_view_module_version": "1.2.0",
            "_view_name": "LayoutView",
            "align_content": null,
            "align_items": null,
            "align_self": null,
            "border": null,
            "bottom": null,
            "display": null,
            "flex": null,
            "flex_flow": null,
            "grid_area": null,
            "grid_auto_columns": null,
            "grid_auto_flow": null,
            "grid_auto_rows": null,
            "grid_column": null,
            "grid_gap": null,
            "grid_row": null,
            "grid_template_areas": null,
            "grid_template_columns": null,
            "grid_template_rows": null,
            "height": null,
            "justify_content": null,
            "justify_items": null,
            "left": null,
            "margin": null,
            "max_height": null,
            "max_width": null,
            "min_height": null,
            "min_width": null,
            "object_fit": null,
            "object_position": null,
            "order": null,
            "overflow": null,
            "overflow_x": null,
            "overflow_y": null,
            "padding": null,
            "right": null,
            "top": null,
            "visibility": null,
            "width": null
          }
        },
        "dea03f196e674ba19414dde49998e542": {
          "model_module": "@jupyter-widgets/controls",
          "model_name": "DescriptionStyleModel",
          "model_module_version": "1.5.0",
          "state": {
            "_model_module": "@jupyter-widgets/controls",
            "_model_module_version": "1.5.0",
            "_model_name": "DescriptionStyleModel",
            "_view_count": null,
            "_view_module": "@jupyter-widgets/base",
            "_view_module_version": "1.2.0",
            "_view_name": "StyleView",
            "description_width": ""
          }
        },
        "56e436dc2b184ad9879c4d1806cba3f3": {
          "model_module": "@jupyter-widgets/base",
          "model_name": "LayoutModel",
          "model_module_version": "1.2.0",
          "state": {
            "_model_module": "@jupyter-widgets/base",
            "_model_module_version": "1.2.0",
            "_model_name": "LayoutModel",
            "_view_count": null,
            "_view_module": "@jupyter-widgets/base",
            "_view_module_version": "1.2.0",
            "_view_name": "LayoutView",
            "align_content": null,
            "align_items": null,
            "align_self": null,
            "border": null,
            "bottom": null,
            "display": null,
            "flex": null,
            "flex_flow": null,
            "grid_area": null,
            "grid_auto_columns": null,
            "grid_auto_flow": null,
            "grid_auto_rows": null,
            "grid_column": null,
            "grid_gap": null,
            "grid_row": null,
            "grid_template_areas": null,
            "grid_template_columns": null,
            "grid_template_rows": null,
            "height": null,
            "justify_content": null,
            "justify_items": null,
            "left": null,
            "margin": null,
            "max_height": null,
            "max_width": null,
            "min_height": null,
            "min_width": null,
            "object_fit": null,
            "object_position": null,
            "order": null,
            "overflow": null,
            "overflow_x": null,
            "overflow_y": null,
            "padding": null,
            "right": null,
            "top": null,
            "visibility": null,
            "width": null
          }
        },
        "3b81776a26cc4726b57ff20c8cea5732": {
          "model_module": "@jupyter-widgets/controls",
          "model_name": "ProgressStyleModel",
          "model_module_version": "1.5.0",
          "state": {
            "_model_module": "@jupyter-widgets/controls",
            "_model_module_version": "1.5.0",
            "_model_name": "ProgressStyleModel",
            "_view_count": null,
            "_view_module": "@jupyter-widgets/base",
            "_view_module_version": "1.2.0",
            "_view_name": "StyleView",
            "bar_color": null,
            "description_width": ""
          }
        },
        "3f009652c4184bcfa40494c9fbb97019": {
          "model_module": "@jupyter-widgets/base",
          "model_name": "LayoutModel",
          "model_module_version": "1.2.0",
          "state": {
            "_model_module": "@jupyter-widgets/base",
            "_model_module_version": "1.2.0",
            "_model_name": "LayoutModel",
            "_view_count": null,
            "_view_module": "@jupyter-widgets/base",
            "_view_module_version": "1.2.0",
            "_view_name": "LayoutView",
            "align_content": null,
            "align_items": null,
            "align_self": null,
            "border": null,
            "bottom": null,
            "display": null,
            "flex": null,
            "flex_flow": null,
            "grid_area": null,
            "grid_auto_columns": null,
            "grid_auto_flow": null,
            "grid_auto_rows": null,
            "grid_column": null,
            "grid_gap": null,
            "grid_row": null,
            "grid_template_areas": null,
            "grid_template_columns": null,
            "grid_template_rows": null,
            "height": null,
            "justify_content": null,
            "justify_items": null,
            "left": null,
            "margin": null,
            "max_height": null,
            "max_width": null,
            "min_height": null,
            "min_width": null,
            "object_fit": null,
            "object_position": null,
            "order": null,
            "overflow": null,
            "overflow_x": null,
            "overflow_y": null,
            "padding": null,
            "right": null,
            "top": null,
            "visibility": null,
            "width": null
          }
        },
        "b377ce552d6e4b948f4743dade96d4c7": {
          "model_module": "@jupyter-widgets/controls",
          "model_name": "DescriptionStyleModel",
          "model_module_version": "1.5.0",
          "state": {
            "_model_module": "@jupyter-widgets/controls",
            "_model_module_version": "1.5.0",
            "_model_name": "DescriptionStyleModel",
            "_view_count": null,
            "_view_module": "@jupyter-widgets/base",
            "_view_module_version": "1.2.0",
            "_view_name": "StyleView",
            "description_width": ""
          }
        },
        "98da27346a0944398d20a85b334245ef": {
          "model_module": "@jupyter-widgets/controls",
          "model_name": "HBoxModel",
          "model_module_version": "1.5.0",
          "state": {
            "_dom_classes": [],
            "_model_module": "@jupyter-widgets/controls",
            "_model_module_version": "1.5.0",
            "_model_name": "HBoxModel",
            "_view_count": null,
            "_view_module": "@jupyter-widgets/controls",
            "_view_module_version": "1.5.0",
            "_view_name": "HBoxView",
            "box_style": "",
            "children": [
              "IPY_MODEL_6ee354699a56414c99c42a9ea2e6c5f9",
              "IPY_MODEL_1bf10fbe5b8142eb9059949d46ccfbd9",
              "IPY_MODEL_09e35b10c5bc40e09db597c5e5770a5f"
            ],
            "layout": "IPY_MODEL_7cfe87f99c6b4747892391e2049c6765"
          }
        },
        "6ee354699a56414c99c42a9ea2e6c5f9": {
          "model_module": "@jupyter-widgets/controls",
          "model_name": "HTMLModel",
          "model_module_version": "1.5.0",
          "state": {
            "_dom_classes": [],
            "_model_module": "@jupyter-widgets/controls",
            "_model_module_version": "1.5.0",
            "_model_name": "HTMLModel",
            "_view_count": null,
            "_view_module": "@jupyter-widgets/controls",
            "_view_module_version": "1.5.0",
            "_view_name": "HTMLView",
            "description": "",
            "description_tooltip": null,
            "layout": "IPY_MODEL_b6e34111c6bd401e83fd87948e45c796",
            "placeholder": "​",
            "style": "IPY_MODEL_bfa12537f3ec4699905f6e03cef47c06",
            "value": "Loading checkpoint shards: 100%"
          }
        },
        "1bf10fbe5b8142eb9059949d46ccfbd9": {
          "model_module": "@jupyter-widgets/controls",
          "model_name": "FloatProgressModel",
          "model_module_version": "1.5.0",
          "state": {
            "_dom_classes": [],
            "_model_module": "@jupyter-widgets/controls",
            "_model_module_version": "1.5.0",
            "_model_name": "FloatProgressModel",
            "_view_count": null,
            "_view_module": "@jupyter-widgets/controls",
            "_view_module_version": "1.5.0",
            "_view_name": "ProgressView",
            "bar_style": "success",
            "description": "",
            "description_tooltip": null,
            "layout": "IPY_MODEL_1e71792cf0b84b3ca417afb00f489603",
            "max": 2,
            "min": 0,
            "orientation": "horizontal",
            "style": "IPY_MODEL_75762f3e7a464be294581d22e6afb86d",
            "value": 2
          }
        },
        "09e35b10c5bc40e09db597c5e5770a5f": {
          "model_module": "@jupyter-widgets/controls",
          "model_name": "HTMLModel",
          "model_module_version": "1.5.0",
          "state": {
            "_dom_classes": [],
            "_model_module": "@jupyter-widgets/controls",
            "_model_module_version": "1.5.0",
            "_model_name": "HTMLModel",
            "_view_count": null,
            "_view_module": "@jupyter-widgets/controls",
            "_view_module_version": "1.5.0",
            "_view_name": "HTMLView",
            "description": "",
            "description_tooltip": null,
            "layout": "IPY_MODEL_98a061aa40b14e23b04d775d847383ac",
            "placeholder": "​",
            "style": "IPY_MODEL_1f2356ae7f43458498866681ae333b6c",
            "value": " 2/2 [00:01&lt;00:00,  1.57s/it]"
          }
        },
        "7cfe87f99c6b4747892391e2049c6765": {
          "model_module": "@jupyter-widgets/base",
          "model_name": "LayoutModel",
          "model_module_version": "1.2.0",
          "state": {
            "_model_module": "@jupyter-widgets/base",
            "_model_module_version": "1.2.0",
            "_model_name": "LayoutModel",
            "_view_count": null,
            "_view_module": "@jupyter-widgets/base",
            "_view_module_version": "1.2.0",
            "_view_name": "LayoutView",
            "align_content": null,
            "align_items": null,
            "align_self": null,
            "border": null,
            "bottom": null,
            "display": null,
            "flex": null,
            "flex_flow": null,
            "grid_area": null,
            "grid_auto_columns": null,
            "grid_auto_flow": null,
            "grid_auto_rows": null,
            "grid_column": null,
            "grid_gap": null,
            "grid_row": null,
            "grid_template_areas": null,
            "grid_template_columns": null,
            "grid_template_rows": null,
            "height": null,
            "justify_content": null,
            "justify_items": null,
            "left": null,
            "margin": null,
            "max_height": null,
            "max_width": null,
            "min_height": null,
            "min_width": null,
            "object_fit": null,
            "object_position": null,
            "order": null,
            "overflow": null,
            "overflow_x": null,
            "overflow_y": null,
            "padding": null,
            "right": null,
            "top": null,
            "visibility": null,
            "width": null
          }
        },
        "b6e34111c6bd401e83fd87948e45c796": {
          "model_module": "@jupyter-widgets/base",
          "model_name": "LayoutModel",
          "model_module_version": "1.2.0",
          "state": {
            "_model_module": "@jupyter-widgets/base",
            "_model_module_version": "1.2.0",
            "_model_name": "LayoutModel",
            "_view_count": null,
            "_view_module": "@jupyter-widgets/base",
            "_view_module_version": "1.2.0",
            "_view_name": "LayoutView",
            "align_content": null,
            "align_items": null,
            "align_self": null,
            "border": null,
            "bottom": null,
            "display": null,
            "flex": null,
            "flex_flow": null,
            "grid_area": null,
            "grid_auto_columns": null,
            "grid_auto_flow": null,
            "grid_auto_rows": null,
            "grid_column": null,
            "grid_gap": null,
            "grid_row": null,
            "grid_template_areas": null,
            "grid_template_columns": null,
            "grid_template_rows": null,
            "height": null,
            "justify_content": null,
            "justify_items": null,
            "left": null,
            "margin": null,
            "max_height": null,
            "max_width": null,
            "min_height": null,
            "min_width": null,
            "object_fit": null,
            "object_position": null,
            "order": null,
            "overflow": null,
            "overflow_x": null,
            "overflow_y": null,
            "padding": null,
            "right": null,
            "top": null,
            "visibility": null,
            "width": null
          }
        },
        "bfa12537f3ec4699905f6e03cef47c06": {
          "model_module": "@jupyter-widgets/controls",
          "model_name": "DescriptionStyleModel",
          "model_module_version": "1.5.0",
          "state": {
            "_model_module": "@jupyter-widgets/controls",
            "_model_module_version": "1.5.0",
            "_model_name": "DescriptionStyleModel",
            "_view_count": null,
            "_view_module": "@jupyter-widgets/base",
            "_view_module_version": "1.2.0",
            "_view_name": "StyleView",
            "description_width": ""
          }
        },
        "1e71792cf0b84b3ca417afb00f489603": {
          "model_module": "@jupyter-widgets/base",
          "model_name": "LayoutModel",
          "model_module_version": "1.2.0",
          "state": {
            "_model_module": "@jupyter-widgets/base",
            "_model_module_version": "1.2.0",
            "_model_name": "LayoutModel",
            "_view_count": null,
            "_view_module": "@jupyter-widgets/base",
            "_view_module_version": "1.2.0",
            "_view_name": "LayoutView",
            "align_content": null,
            "align_items": null,
            "align_self": null,
            "border": null,
            "bottom": null,
            "display": null,
            "flex": null,
            "flex_flow": null,
            "grid_area": null,
            "grid_auto_columns": null,
            "grid_auto_flow": null,
            "grid_auto_rows": null,
            "grid_column": null,
            "grid_gap": null,
            "grid_row": null,
            "grid_template_areas": null,
            "grid_template_columns": null,
            "grid_template_rows": null,
            "height": null,
            "justify_content": null,
            "justify_items": null,
            "left": null,
            "margin": null,
            "max_height": null,
            "max_width": null,
            "min_height": null,
            "min_width": null,
            "object_fit": null,
            "object_position": null,
            "order": null,
            "overflow": null,
            "overflow_x": null,
            "overflow_y": null,
            "padding": null,
            "right": null,
            "top": null,
            "visibility": null,
            "width": null
          }
        },
        "75762f3e7a464be294581d22e6afb86d": {
          "model_module": "@jupyter-widgets/controls",
          "model_name": "ProgressStyleModel",
          "model_module_version": "1.5.0",
          "state": {
            "_model_module": "@jupyter-widgets/controls",
            "_model_module_version": "1.5.0",
            "_model_name": "ProgressStyleModel",
            "_view_count": null,
            "_view_module": "@jupyter-widgets/base",
            "_view_module_version": "1.2.0",
            "_view_name": "StyleView",
            "bar_color": null,
            "description_width": ""
          }
        },
        "98a061aa40b14e23b04d775d847383ac": {
          "model_module": "@jupyter-widgets/base",
          "model_name": "LayoutModel",
          "model_module_version": "1.2.0",
          "state": {
            "_model_module": "@jupyter-widgets/base",
            "_model_module_version": "1.2.0",
            "_model_name": "LayoutModel",
            "_view_count": null,
            "_view_module": "@jupyter-widgets/base",
            "_view_module_version": "1.2.0",
            "_view_name": "LayoutView",
            "align_content": null,
            "align_items": null,
            "align_self": null,
            "border": null,
            "bottom": null,
            "display": null,
            "flex": null,
            "flex_flow": null,
            "grid_area": null,
            "grid_auto_columns": null,
            "grid_auto_flow": null,
            "grid_auto_rows": null,
            "grid_column": null,
            "grid_gap": null,
            "grid_row": null,
            "grid_template_areas": null,
            "grid_template_columns": null,
            "grid_template_rows": null,
            "height": null,
            "justify_content": null,
            "justify_items": null,
            "left": null,
            "margin": null,
            "max_height": null,
            "max_width": null,
            "min_height": null,
            "min_width": null,
            "object_fit": null,
            "object_position": null,
            "order": null,
            "overflow": null,
            "overflow_x": null,
            "overflow_y": null,
            "padding": null,
            "right": null,
            "top": null,
            "visibility": null,
            "width": null
          }
        },
        "1f2356ae7f43458498866681ae333b6c": {
          "model_module": "@jupyter-widgets/controls",
          "model_name": "DescriptionStyleModel",
          "model_module_version": "1.5.0",
          "state": {
            "_model_module": "@jupyter-widgets/controls",
            "_model_module_version": "1.5.0",
            "_model_name": "DescriptionStyleModel",
            "_view_count": null,
            "_view_module": "@jupyter-widgets/base",
            "_view_module_version": "1.2.0",
            "_view_name": "StyleView",
            "description_width": ""
          }
        },
        "eb7112eb27fa4a51bf3d59b7a694159c": {
          "model_module": "@jupyter-widgets/output",
          "model_name": "OutputModel",
          "model_module_version": "1.0.0",
          "state": {
            "_dom_classes": [],
            "_model_module": "@jupyter-widgets/output",
            "_model_module_version": "1.0.0",
            "_model_name": "OutputModel",
            "_view_count": null,
            "_view_module": "@jupyter-widgets/output",
            "_view_module_version": "1.0.0",
            "_view_name": "OutputView",
            "layout": "IPY_MODEL_c485d74b09ea46dda77f1b5205fb0937",
            "msg_id": "",
            "outputs": [
              {
                "output_type": "display_data",
                "data": {
                  "text/plain": "\u001b[38;2;106;0;255m⠋\u001b[0m ✨ You're running DeepEval's latest \u001b[38;2;106;0;255mExecution Accuracy Metric\u001b[0m! \u001b[38;2;55;65;81m(using None, strict=False, async_mode=True)...\u001b[0m\n",
                  "text/html": "<pre style=\"white-space:pre;overflow-x:auto;line-height:normal;font-family:Menlo,'DejaVu Sans Mono',consolas,'Courier New',monospace\"><span style=\"color: #6a00ff; text-decoration-color: #6a00ff\">⠋</span> ✨ You're running DeepEval's latest <span style=\"color: #6a00ff; text-decoration-color: #6a00ff\">Execution Accuracy Metric</span>! <span style=\"color: #374151; text-decoration-color: #374151\">(using None, strict=False, async_mode=True)...</span>\n</pre>\n"
                },
                "metadata": {}
              }
            ]
          }
        },
        "c485d74b09ea46dda77f1b5205fb0937": {
          "model_module": "@jupyter-widgets/base",
          "model_name": "LayoutModel",
          "model_module_version": "1.2.0",
          "state": {
            "_model_module": "@jupyter-widgets/base",
            "_model_module_version": "1.2.0",
            "_model_name": "LayoutModel",
            "_view_count": null,
            "_view_module": "@jupyter-widgets/base",
            "_view_module_version": "1.2.0",
            "_view_name": "LayoutView",
            "align_content": null,
            "align_items": null,
            "align_self": null,
            "border": null,
            "bottom": null,
            "display": null,
            "flex": null,
            "flex_flow": null,
            "grid_area": null,
            "grid_auto_columns": null,
            "grid_auto_flow": null,
            "grid_auto_rows": null,
            "grid_column": null,
            "grid_gap": null,
            "grid_row": null,
            "grid_template_areas": null,
            "grid_template_columns": null,
            "grid_template_rows": null,
            "height": null,
            "justify_content": null,
            "justify_items": null,
            "left": null,
            "margin": null,
            "max_height": null,
            "max_width": null,
            "min_height": null,
            "min_width": null,
            "object_fit": null,
            "object_position": null,
            "order": null,
            "overflow": null,
            "overflow_x": null,
            "overflow_y": null,
            "padding": null,
            "right": null,
            "top": null,
            "visibility": null,
            "width": null
          }
        },
        "6be828e55d234289b0911805640ac158": {
          "model_module": "@jupyter-widgets/output",
          "model_name": "OutputModel",
          "model_module_version": "1.0.0",
          "state": {
            "_dom_classes": [],
            "_model_module": "@jupyter-widgets/output",
            "_model_module_version": "1.0.0",
            "_model_name": "OutputModel",
            "_view_count": null,
            "_view_module": "@jupyter-widgets/output",
            "_view_module_version": "1.0.0",
            "_view_name": "OutputView",
            "layout": "IPY_MODEL_4524df7f4785459c9f9b6c8bffbecf3e",
            "msg_id": "",
            "outputs": [
              {
                "output_type": "display_data",
                "data": {
                  "text/plain": "\u001b[38;2;106;0;255m⠋\u001b[0m ✨ You're running DeepEval's latest \u001b[38;2;106;0;255mExecution Accuracy Metric\u001b[0m! \u001b[38;2;55;65;81m(using None, strict=False, async_mode=True)...\u001b[0m\n",
                  "text/html": "<pre style=\"white-space:pre;overflow-x:auto;line-height:normal;font-family:Menlo,'DejaVu Sans Mono',consolas,'Courier New',monospace\"><span style=\"color: #6a00ff; text-decoration-color: #6a00ff\">⠋</span> ✨ You're running DeepEval's latest <span style=\"color: #6a00ff; text-decoration-color: #6a00ff\">Execution Accuracy Metric</span>! <span style=\"color: #374151; text-decoration-color: #374151\">(using None, strict=False, async_mode=True)...</span>\n</pre>\n"
                },
                "metadata": {}
              }
            ]
          }
        },
        "4524df7f4785459c9f9b6c8bffbecf3e": {
          "model_module": "@jupyter-widgets/base",
          "model_name": "LayoutModel",
          "model_module_version": "1.2.0",
          "state": {
            "_model_module": "@jupyter-widgets/base",
            "_model_module_version": "1.2.0",
            "_model_name": "LayoutModel",
            "_view_count": null,
            "_view_module": "@jupyter-widgets/base",
            "_view_module_version": "1.2.0",
            "_view_name": "LayoutView",
            "align_content": null,
            "align_items": null,
            "align_self": null,
            "border": null,
            "bottom": null,
            "display": null,
            "flex": null,
            "flex_flow": null,
            "grid_area": null,
            "grid_auto_columns": null,
            "grid_auto_flow": null,
            "grid_auto_rows": null,
            "grid_column": null,
            "grid_gap": null,
            "grid_row": null,
            "grid_template_areas": null,
            "grid_template_columns": null,
            "grid_template_rows": null,
            "height": null,
            "justify_content": null,
            "justify_items": null,
            "left": null,
            "margin": null,
            "max_height": null,
            "max_width": null,
            "min_height": null,
            "min_width": null,
            "object_fit": null,
            "object_position": null,
            "order": null,
            "overflow": null,
            "overflow_x": null,
            "overflow_y": null,
            "padding": null,
            "right": null,
            "top": null,
            "visibility": null,
            "width": null
          }
        },
        "099db0d0a9b049f89d880aae19d282d9": {
          "model_module": "@jupyter-widgets/output",
          "model_name": "OutputModel",
          "model_module_version": "1.0.0",
          "state": {
            "_dom_classes": [],
            "_model_module": "@jupyter-widgets/output",
            "_model_module_version": "1.0.0",
            "_model_name": "OutputModel",
            "_view_count": null,
            "_view_module": "@jupyter-widgets/output",
            "_view_module_version": "1.0.0",
            "_view_name": "OutputView",
            "layout": "IPY_MODEL_8d8c8a6e87724ff980778dea834091ac",
            "msg_id": "",
            "outputs": [
              {
                "output_type": "display_data",
                "data": {
                  "text/plain": "\u001b[38;2;106;0;255m⠋\u001b[0m ✨ You're running DeepEval's latest \u001b[38;2;106;0;255mExecution Accuracy Metric\u001b[0m! \u001b[38;2;55;65;81m(using None, strict=False, async_mode=True)...\u001b[0m\n",
                  "text/html": "<pre style=\"white-space:pre;overflow-x:auto;line-height:normal;font-family:Menlo,'DejaVu Sans Mono',consolas,'Courier New',monospace\"><span style=\"color: #6a00ff; text-decoration-color: #6a00ff\">⠋</span> ✨ You're running DeepEval's latest <span style=\"color: #6a00ff; text-decoration-color: #6a00ff\">Execution Accuracy Metric</span>! <span style=\"color: #374151; text-decoration-color: #374151\">(using None, strict=False, async_mode=True)...</span>\n</pre>\n"
                },
                "metadata": {}
              }
            ]
          }
        },
        "8d8c8a6e87724ff980778dea834091ac": {
          "model_module": "@jupyter-widgets/base",
          "model_name": "LayoutModel",
          "model_module_version": "1.2.0",
          "state": {
            "_model_module": "@jupyter-widgets/base",
            "_model_module_version": "1.2.0",
            "_model_name": "LayoutModel",
            "_view_count": null,
            "_view_module": "@jupyter-widgets/base",
            "_view_module_version": "1.2.0",
            "_view_name": "LayoutView",
            "align_content": null,
            "align_items": null,
            "align_self": null,
            "border": null,
            "bottom": null,
            "display": null,
            "flex": null,
            "flex_flow": null,
            "grid_area": null,
            "grid_auto_columns": null,
            "grid_auto_flow": null,
            "grid_auto_rows": null,
            "grid_column": null,
            "grid_gap": null,
            "grid_row": null,
            "grid_template_areas": null,
            "grid_template_columns": null,
            "grid_template_rows": null,
            "height": null,
            "justify_content": null,
            "justify_items": null,
            "left": null,
            "margin": null,
            "max_height": null,
            "max_width": null,
            "min_height": null,
            "min_width": null,
            "object_fit": null,
            "object_position": null,
            "order": null,
            "overflow": null,
            "overflow_x": null,
            "overflow_y": null,
            "padding": null,
            "right": null,
            "top": null,
            "visibility": null,
            "width": null
          }
        },
        "3fd20f7c72b64df297b090a9b06b4678": {
          "model_module": "@jupyter-widgets/output",
          "model_name": "OutputModel",
          "model_module_version": "1.0.0",
          "state": {
            "_dom_classes": [],
            "_model_module": "@jupyter-widgets/output",
            "_model_module_version": "1.0.0",
            "_model_name": "OutputModel",
            "_view_count": null,
            "_view_module": "@jupyter-widgets/output",
            "_view_module_version": "1.0.0",
            "_view_name": "OutputView",
            "layout": "IPY_MODEL_cb5b27b15a2d4ece82c46913fb04687d",
            "msg_id": "",
            "outputs": [
              {
                "output_type": "display_data",
                "data": {
                  "text/plain": "\u001b[38;2;106;0;255m⠋\u001b[0m ✨ You're running DeepEval's latest \u001b[38;2;106;0;255mExecution Accuracy Metric\u001b[0m! \u001b[38;2;55;65;81m(using None, strict=False, async_mode=True)...\u001b[0m\n",
                  "text/html": "<pre style=\"white-space:pre;overflow-x:auto;line-height:normal;font-family:Menlo,'DejaVu Sans Mono',consolas,'Courier New',monospace\"><span style=\"color: #6a00ff; text-decoration-color: #6a00ff\">⠋</span> ✨ You're running DeepEval's latest <span style=\"color: #6a00ff; text-decoration-color: #6a00ff\">Execution Accuracy Metric</span>! <span style=\"color: #374151; text-decoration-color: #374151\">(using None, strict=False, async_mode=True)...</span>\n</pre>\n"
                },
                "metadata": {}
              }
            ]
          }
        },
        "cb5b27b15a2d4ece82c46913fb04687d": {
          "model_module": "@jupyter-widgets/base",
          "model_name": "LayoutModel",
          "model_module_version": "1.2.0",
          "state": {
            "_model_module": "@jupyter-widgets/base",
            "_model_module_version": "1.2.0",
            "_model_name": "LayoutModel",
            "_view_count": null,
            "_view_module": "@jupyter-widgets/base",
            "_view_module_version": "1.2.0",
            "_view_name": "LayoutView",
            "align_content": null,
            "align_items": null,
            "align_self": null,
            "border": null,
            "bottom": null,
            "display": null,
            "flex": null,
            "flex_flow": null,
            "grid_area": null,
            "grid_auto_columns": null,
            "grid_auto_flow": null,
            "grid_auto_rows": null,
            "grid_column": null,
            "grid_gap": null,
            "grid_row": null,
            "grid_template_areas": null,
            "grid_template_columns": null,
            "grid_template_rows": null,
            "height": null,
            "justify_content": null,
            "justify_items": null,
            "left": null,
            "margin": null,
            "max_height": null,
            "max_width": null,
            "min_height": null,
            "min_width": null,
            "object_fit": null,
            "object_position": null,
            "order": null,
            "overflow": null,
            "overflow_x": null,
            "overflow_y": null,
            "padding": null,
            "right": null,
            "top": null,
            "visibility": null,
            "width": null
          }
        },
        "57cec3cb7f7e49ab851341345ea9afbd": {
          "model_module": "@jupyter-widgets/output",
          "model_name": "OutputModel",
          "model_module_version": "1.0.0",
          "state": {
            "_dom_classes": [],
            "_model_module": "@jupyter-widgets/output",
            "_model_module_version": "1.0.0",
            "_model_name": "OutputModel",
            "_view_count": null,
            "_view_module": "@jupyter-widgets/output",
            "_view_module_version": "1.0.0",
            "_view_name": "OutputView",
            "layout": "IPY_MODEL_b2de23f144e24448a1a072d85e045625",
            "msg_id": "",
            "outputs": [
              {
                "output_type": "display_data",
                "data": {
                  "text/plain": "\u001b[38;2;106;0;255m⠋\u001b[0m ✨ You're running DeepEval's latest \u001b[38;2;106;0;255mExecution Accuracy Metric\u001b[0m! \u001b[38;2;55;65;81m(using None, strict=False, async_mode=True)...\u001b[0m\n",
                  "text/html": "<pre style=\"white-space:pre;overflow-x:auto;line-height:normal;font-family:Menlo,'DejaVu Sans Mono',consolas,'Courier New',monospace\"><span style=\"color: #6a00ff; text-decoration-color: #6a00ff\">⠋</span> ✨ You're running DeepEval's latest <span style=\"color: #6a00ff; text-decoration-color: #6a00ff\">Execution Accuracy Metric</span>! <span style=\"color: #374151; text-decoration-color: #374151\">(using None, strict=False, async_mode=True)...</span>\n</pre>\n"
                },
                "metadata": {}
              }
            ]
          }
        },
        "b2de23f144e24448a1a072d85e045625": {
          "model_module": "@jupyter-widgets/base",
          "model_name": "LayoutModel",
          "model_module_version": "1.2.0",
          "state": {
            "_model_module": "@jupyter-widgets/base",
            "_model_module_version": "1.2.0",
            "_model_name": "LayoutModel",
            "_view_count": null,
            "_view_module": "@jupyter-widgets/base",
            "_view_module_version": "1.2.0",
            "_view_name": "LayoutView",
            "align_content": null,
            "align_items": null,
            "align_self": null,
            "border": null,
            "bottom": null,
            "display": null,
            "flex": null,
            "flex_flow": null,
            "grid_area": null,
            "grid_auto_columns": null,
            "grid_auto_flow": null,
            "grid_auto_rows": null,
            "grid_column": null,
            "grid_gap": null,
            "grid_row": null,
            "grid_template_areas": null,
            "grid_template_columns": null,
            "grid_template_rows": null,
            "height": null,
            "justify_content": null,
            "justify_items": null,
            "left": null,
            "margin": null,
            "max_height": null,
            "max_width": null,
            "min_height": null,
            "min_width": null,
            "object_fit": null,
            "object_position": null,
            "order": null,
            "overflow": null,
            "overflow_x": null,
            "overflow_y": null,
            "padding": null,
            "right": null,
            "top": null,
            "visibility": null,
            "width": null
          }
        },
        "4629d07d415c44a2abb35cc590bfbd25": {
          "model_module": "@jupyter-widgets/output",
          "model_name": "OutputModel",
          "model_module_version": "1.0.0",
          "state": {
            "_dom_classes": [],
            "_model_module": "@jupyter-widgets/output",
            "_model_module_version": "1.0.0",
            "_model_name": "OutputModel",
            "_view_count": null,
            "_view_module": "@jupyter-widgets/output",
            "_view_module_version": "1.0.0",
            "_view_name": "OutputView",
            "layout": "IPY_MODEL_da7b976d87ca4bf49ee845c97e211b58",
            "msg_id": "",
            "outputs": [
              {
                "output_type": "display_data",
                "data": {
                  "text/plain": "\u001b[38;2;106;0;255m⠋\u001b[0m ✨ You're running DeepEval's latest \u001b[38;2;106;0;255mExecution Accuracy Metric\u001b[0m! \u001b[38;2;55;65;81m(using None, strict=False, async_mode=True)...\u001b[0m\n",
                  "text/html": "<pre style=\"white-space:pre;overflow-x:auto;line-height:normal;font-family:Menlo,'DejaVu Sans Mono',consolas,'Courier New',monospace\"><span style=\"color: #6a00ff; text-decoration-color: #6a00ff\">⠋</span> ✨ You're running DeepEval's latest <span style=\"color: #6a00ff; text-decoration-color: #6a00ff\">Execution Accuracy Metric</span>! <span style=\"color: #374151; text-decoration-color: #374151\">(using None, strict=False, async_mode=True)...</span>\n</pre>\n"
                },
                "metadata": {}
              }
            ]
          }
        },
        "da7b976d87ca4bf49ee845c97e211b58": {
          "model_module": "@jupyter-widgets/base",
          "model_name": "LayoutModel",
          "model_module_version": "1.2.0",
          "state": {
            "_model_module": "@jupyter-widgets/base",
            "_model_module_version": "1.2.0",
            "_model_name": "LayoutModel",
            "_view_count": null,
            "_view_module": "@jupyter-widgets/base",
            "_view_module_version": "1.2.0",
            "_view_name": "LayoutView",
            "align_content": null,
            "align_items": null,
            "align_self": null,
            "border": null,
            "bottom": null,
            "display": null,
            "flex": null,
            "flex_flow": null,
            "grid_area": null,
            "grid_auto_columns": null,
            "grid_auto_flow": null,
            "grid_auto_rows": null,
            "grid_column": null,
            "grid_gap": null,
            "grid_row": null,
            "grid_template_areas": null,
            "grid_template_columns": null,
            "grid_template_rows": null,
            "height": null,
            "justify_content": null,
            "justify_items": null,
            "left": null,
            "margin": null,
            "max_height": null,
            "max_width": null,
            "min_height": null,
            "min_width": null,
            "object_fit": null,
            "object_position": null,
            "order": null,
            "overflow": null,
            "overflow_x": null,
            "overflow_y": null,
            "padding": null,
            "right": null,
            "top": null,
            "visibility": null,
            "width": null
          }
        },
        "45ba43f99b104afbad6fb14e4a95995a": {
          "model_module": "@jupyter-widgets/controls",
          "model_name": "HBoxModel",
          "model_module_version": "1.5.0",
          "state": {
            "_dom_classes": [],
            "_model_module": "@jupyter-widgets/controls",
            "_model_module_version": "1.5.0",
            "_model_name": "HBoxModel",
            "_view_count": null,
            "_view_module": "@jupyter-widgets/controls",
            "_view_module_version": "1.5.0",
            "_view_name": "HBoxView",
            "box_style": "",
            "children": [
              "IPY_MODEL_eebc28437d5f48b28bef42105428fb5d",
              "IPY_MODEL_8627dd25e17a432d9bf99fccd30e4b6a",
              "IPY_MODEL_4b27ad505c464c179d2dd6a1620b0c30"
            ],
            "layout": "IPY_MODEL_b227d24a872d463498ec88bb5e46a515"
          }
        },
        "eebc28437d5f48b28bef42105428fb5d": {
          "model_module": "@jupyter-widgets/controls",
          "model_name": "HTMLModel",
          "model_module_version": "1.5.0",
          "state": {
            "_dom_classes": [],
            "_model_module": "@jupyter-widgets/controls",
            "_model_module_version": "1.5.0",
            "_model_name": "HTMLModel",
            "_view_count": null,
            "_view_module": "@jupyter-widgets/controls",
            "_view_module_version": "1.5.0",
            "_view_name": "HTMLView",
            "description": "",
            "description_tooltip": null,
            "layout": "IPY_MODEL_1151be65f75541c4bd52726c1e56a838",
            "placeholder": "​",
            "style": "IPY_MODEL_aabe5c7ec20f47ea8d413ed46a157692",
            "value": "Loading checkpoint shards: 100%"
          }
        },
        "8627dd25e17a432d9bf99fccd30e4b6a": {
          "model_module": "@jupyter-widgets/controls",
          "model_name": "FloatProgressModel",
          "model_module_version": "1.5.0",
          "state": {
            "_dom_classes": [],
            "_model_module": "@jupyter-widgets/controls",
            "_model_module_version": "1.5.0",
            "_model_name": "FloatProgressModel",
            "_view_count": null,
            "_view_module": "@jupyter-widgets/controls",
            "_view_module_version": "1.5.0",
            "_view_name": "ProgressView",
            "bar_style": "success",
            "description": "",
            "description_tooltip": null,
            "layout": "IPY_MODEL_295c71307d914ad6b58e80958e260e44",
            "max": 2,
            "min": 0,
            "orientation": "horizontal",
            "style": "IPY_MODEL_2296e5b6790349728ea044712480f291",
            "value": 2
          }
        },
        "4b27ad505c464c179d2dd6a1620b0c30": {
          "model_module": "@jupyter-widgets/controls",
          "model_name": "HTMLModel",
          "model_module_version": "1.5.0",
          "state": {
            "_dom_classes": [],
            "_model_module": "@jupyter-widgets/controls",
            "_model_module_version": "1.5.0",
            "_model_name": "HTMLModel",
            "_view_count": null,
            "_view_module": "@jupyter-widgets/controls",
            "_view_module_version": "1.5.0",
            "_view_name": "HTMLView",
            "description": "",
            "description_tooltip": null,
            "layout": "IPY_MODEL_7cec14d18b2647d196e5e32bfff9572b",
            "placeholder": "​",
            "style": "IPY_MODEL_5f7c16b0ce624127b3fdb61e902955e6",
            "value": " 2/2 [00:02&lt;00:00,  2.20s/it]"
          }
        },
        "b227d24a872d463498ec88bb5e46a515": {
          "model_module": "@jupyter-widgets/base",
          "model_name": "LayoutModel",
          "model_module_version": "1.2.0",
          "state": {
            "_model_module": "@jupyter-widgets/base",
            "_model_module_version": "1.2.0",
            "_model_name": "LayoutModel",
            "_view_count": null,
            "_view_module": "@jupyter-widgets/base",
            "_view_module_version": "1.2.0",
            "_view_name": "LayoutView",
            "align_content": null,
            "align_items": null,
            "align_self": null,
            "border": null,
            "bottom": null,
            "display": null,
            "flex": null,
            "flex_flow": null,
            "grid_area": null,
            "grid_auto_columns": null,
            "grid_auto_flow": null,
            "grid_auto_rows": null,
            "grid_column": null,
            "grid_gap": null,
            "grid_row": null,
            "grid_template_areas": null,
            "grid_template_columns": null,
            "grid_template_rows": null,
            "height": null,
            "justify_content": null,
            "justify_items": null,
            "left": null,
            "margin": null,
            "max_height": null,
            "max_width": null,
            "min_height": null,
            "min_width": null,
            "object_fit": null,
            "object_position": null,
            "order": null,
            "overflow": null,
            "overflow_x": null,
            "overflow_y": null,
            "padding": null,
            "right": null,
            "top": null,
            "visibility": null,
            "width": null
          }
        },
        "1151be65f75541c4bd52726c1e56a838": {
          "model_module": "@jupyter-widgets/base",
          "model_name": "LayoutModel",
          "model_module_version": "1.2.0",
          "state": {
            "_model_module": "@jupyter-widgets/base",
            "_model_module_version": "1.2.0",
            "_model_name": "LayoutModel",
            "_view_count": null,
            "_view_module": "@jupyter-widgets/base",
            "_view_module_version": "1.2.0",
            "_view_name": "LayoutView",
            "align_content": null,
            "align_items": null,
            "align_self": null,
            "border": null,
            "bottom": null,
            "display": null,
            "flex": null,
            "flex_flow": null,
            "grid_area": null,
            "grid_auto_columns": null,
            "grid_auto_flow": null,
            "grid_auto_rows": null,
            "grid_column": null,
            "grid_gap": null,
            "grid_row": null,
            "grid_template_areas": null,
            "grid_template_columns": null,
            "grid_template_rows": null,
            "height": null,
            "justify_content": null,
            "justify_items": null,
            "left": null,
            "margin": null,
            "max_height": null,
            "max_width": null,
            "min_height": null,
            "min_width": null,
            "object_fit": null,
            "object_position": null,
            "order": null,
            "overflow": null,
            "overflow_x": null,
            "overflow_y": null,
            "padding": null,
            "right": null,
            "top": null,
            "visibility": null,
            "width": null
          }
        },
        "aabe5c7ec20f47ea8d413ed46a157692": {
          "model_module": "@jupyter-widgets/controls",
          "model_name": "DescriptionStyleModel",
          "model_module_version": "1.5.0",
          "state": {
            "_model_module": "@jupyter-widgets/controls",
            "_model_module_version": "1.5.0",
            "_model_name": "DescriptionStyleModel",
            "_view_count": null,
            "_view_module": "@jupyter-widgets/base",
            "_view_module_version": "1.2.0",
            "_view_name": "StyleView",
            "description_width": ""
          }
        },
        "295c71307d914ad6b58e80958e260e44": {
          "model_module": "@jupyter-widgets/base",
          "model_name": "LayoutModel",
          "model_module_version": "1.2.0",
          "state": {
            "_model_module": "@jupyter-widgets/base",
            "_model_module_version": "1.2.0",
            "_model_name": "LayoutModel",
            "_view_count": null,
            "_view_module": "@jupyter-widgets/base",
            "_view_module_version": "1.2.0",
            "_view_name": "LayoutView",
            "align_content": null,
            "align_items": null,
            "align_self": null,
            "border": null,
            "bottom": null,
            "display": null,
            "flex": null,
            "flex_flow": null,
            "grid_area": null,
            "grid_auto_columns": null,
            "grid_auto_flow": null,
            "grid_auto_rows": null,
            "grid_column": null,
            "grid_gap": null,
            "grid_row": null,
            "grid_template_areas": null,
            "grid_template_columns": null,
            "grid_template_rows": null,
            "height": null,
            "justify_content": null,
            "justify_items": null,
            "left": null,
            "margin": null,
            "max_height": null,
            "max_width": null,
            "min_height": null,
            "min_width": null,
            "object_fit": null,
            "object_position": null,
            "order": null,
            "overflow": null,
            "overflow_x": null,
            "overflow_y": null,
            "padding": null,
            "right": null,
            "top": null,
            "visibility": null,
            "width": null
          }
        },
        "2296e5b6790349728ea044712480f291": {
          "model_module": "@jupyter-widgets/controls",
          "model_name": "ProgressStyleModel",
          "model_module_version": "1.5.0",
          "state": {
            "_model_module": "@jupyter-widgets/controls",
            "_model_module_version": "1.5.0",
            "_model_name": "ProgressStyleModel",
            "_view_count": null,
            "_view_module": "@jupyter-widgets/base",
            "_view_module_version": "1.2.0",
            "_view_name": "StyleView",
            "bar_color": null,
            "description_width": ""
          }
        },
        "7cec14d18b2647d196e5e32bfff9572b": {
          "model_module": "@jupyter-widgets/base",
          "model_name": "LayoutModel",
          "model_module_version": "1.2.0",
          "state": {
            "_model_module": "@jupyter-widgets/base",
            "_model_module_version": "1.2.0",
            "_model_name": "LayoutModel",
            "_view_count": null,
            "_view_module": "@jupyter-widgets/base",
            "_view_module_version": "1.2.0",
            "_view_name": "LayoutView",
            "align_content": null,
            "align_items": null,
            "align_self": null,
            "border": null,
            "bottom": null,
            "display": null,
            "flex": null,
            "flex_flow": null,
            "grid_area": null,
            "grid_auto_columns": null,
            "grid_auto_flow": null,
            "grid_auto_rows": null,
            "grid_column": null,
            "grid_gap": null,
            "grid_row": null,
            "grid_template_areas": null,
            "grid_template_columns": null,
            "grid_template_rows": null,
            "height": null,
            "justify_content": null,
            "justify_items": null,
            "left": null,
            "margin": null,
            "max_height": null,
            "max_width": null,
            "min_height": null,
            "min_width": null,
            "object_fit": null,
            "object_position": null,
            "order": null,
            "overflow": null,
            "overflow_x": null,
            "overflow_y": null,
            "padding": null,
            "right": null,
            "top": null,
            "visibility": null,
            "width": null
          }
        },
        "5f7c16b0ce624127b3fdb61e902955e6": {
          "model_module": "@jupyter-widgets/controls",
          "model_name": "DescriptionStyleModel",
          "model_module_version": "1.5.0",
          "state": {
            "_model_module": "@jupyter-widgets/controls",
            "_model_module_version": "1.5.0",
            "_model_name": "DescriptionStyleModel",
            "_view_count": null,
            "_view_module": "@jupyter-widgets/base",
            "_view_module_version": "1.2.0",
            "_view_name": "StyleView",
            "description_width": ""
          }
        }
      }
    }
  },
  "cells": [
    {
      "cell_type": "code",
      "execution_count": 1,
      "metadata": {
        "colab": {
          "base_uri": "https://localhost:8080/"
        },
        "id": "Fj_XnKqcKLPw",
        "outputId": "3ef2f1b9-03fe-4a10-d3ab-d159981ef095"
      },
      "outputs": [
        {
          "output_type": "stream",
          "name": "stdout",
          "text": [
            "\n",
            "\n",
            "\n",
            "fwfwq\n",
            ";8u.ç;8\n",
            "x\n",
            "\u001b[33mWARNING: Skipping bitsandbytes as it is not installed.\u001b[0m\u001b[33m\n",
            "\u001b[0mFound existing installation: triton 3.2.0\n",
            "Uninstalling triton-3.2.0:\n",
            "  Successfully uninstalled triton-3.2.0\n",
            "--- Ambiente pronto! ---\n",
            "\n",
            "Verificando se bitsandbytes foi removido...\n"
          ]
        }
      ],
      "source": [
        "# @title Célula 1: Instalação Limpa e Correta\n",
        "# Garante que as bibliotecas problemáticas não existam\n",
        "!pip uninstall -y bitsandbytes triton\n",
        "\n",
        "# Instala as dependências necessárias\n",
        "!pip install -q \"transformers>=4.41.0\"\n",
        "!pip install -q \"datasets==2.19.2\"\n",
        "!pip install -q \"peft==0.11.1\"\n",
        "!pip install -q \"trl==0.8.6\"\n",
        "!pip install -q \"accelerate>=0.31.0\"\n",
        "!pip install -q \"deepeval==0.21.42\"\n",
        "print(\"--- Ambiente pronto! ---\")\n",
        "\n",
        "# Célula de verificação (opcional): a saída deve ser vazia\n",
        "print(\"\\nVerificando se bitsandbytes foi removido...\")\n",
        "!pip freeze | grep bitsandbytes"
      ]
    },
    {
      "cell_type": "code",
      "source": [
        "# @title Célula 2: Configuração e Login\n",
        "import os, torch, pandas as pd, random, numpy as np, json, zipfile, gc\n",
        "from huggingface_hub import notebook_login\n",
        "from datasets import Dataset\n",
        "from transformers import AutoTokenizer, AutoModelForCausalLM, TrainingArguments\n",
        "from peft import LoraConfig, get_peft_model\n",
        "from trl import SFTTrainer\n",
        "\n",
        "SEED = 42\n",
        "random.seed(SEED)\n",
        "np.random.seed(SEED)\n",
        "torch.manual_seed(SEED)\n",
        "if torch.cuda.is_available(): torch.cuda.manual_seed_all(SEED)\n",
        "\n",
        "\"\"\"print(\"Insira seu token do Hugging Face:\")\n",
        "notebook_login()\"\"\"\n",
        "\n",
        "from google.colab import userdata\n",
        "userdata.get('HF_TOKEN')\n",
        "\n",
        "DEVICE = \"cuda\" if torch.cuda.is_available() else \"cpu\"\n",
        "print(f\"Dispositivo: {DEVICE}\")"
      ],
      "metadata": {
        "colab": {
          "base_uri": "https://localhost:8080/"
        },
        "id": "QF7XeylUKPLG",
        "outputId": "2b8b1705-d2ac-4e3d-c3d0-7b8aa5c51c10"
      },
      "execution_count": 27,
      "outputs": [
        {
          "output_type": "stream",
          "name": "stdout",
          "text": [
            "Dispositivo: cuda\n"
          ]
        }
      ]
    },
    {
      "cell_type": "code",
      "source": [
        "# @title Célula 3: Constantes do Projeto\n",
        "MODEL_ID = \"google/gemma-2b-it\"\n",
        "LORA_TARGET_MODULES = [\"q_proj\", \"k_proj\", \"v_proj\", \"o_proj\"]\n",
        "ZIP_FILE_NAME = \"/content/spider_data.zip\"\n",
        "EXTRACT_PATH = \"./spider_unzipped\"\n",
        "DB_DIR_LOCAL = os.path.join(EXTRACT_PATH, \"database\")\n",
        "LORA_R, LORA_ALPHA, LORA_DROPOUT = 8, 16, 0.05\n",
        "EXP1_CONFIG = {\"output_dir\": \"gemma-2b-spider-ft-exp1\", \"num_train_epochs\": 1, \"learning_rate\": 2e-4, \"per_device_train_batch_size\": 4, \"gradient_accumulation_steps\": 1}\n",
        "EXP2_CONFIG = {\"output_dir\": \"gemma-2b-spider-ft-exp2\", \"num_train_epochs\": 1, \"learning_rate\": 5e-5, \"per_device_train_batch_size\": 4, \"gradient_accumulation_steps\": 1}\n",
        "#MMLU_DATASET = \"cais/mmlu\"\n",
        "#MMLU_CATEGORIES = {\"STEM\": \"computer_science\", \"Humanidades\": \"philosophy\", \"Ciências Sociais\": \"economics\"}\n",
        "# --- MMLU Datasets ---\n",
        "MMLU_DATASET = \"cais/mmlu\"\n",
        "MMLU_CATEGORIES = {\n",
        "    \"STEM\": \"college_computer_science\",      # CORRIGIDO de \"computer_science\"\n",
        "    \"Humanidades\": \"philosophy\",             # Este já estava certo\n",
        "    \"Ciências Sociais\": \"high_school_macroeconomics\" # CORRIGIDO de \"economics\"\n",
        "}\n",
        "MMLU_SAMPLES_PER_CATEGORY = 50\n",
        "\n"
      ],
      "metadata": {
        "id": "Cskmv_LxLU3b"
      },
      "execution_count": 31,
      "outputs": []
    },
    {
      "cell_type": "code",
      "source": [
        "# @title Célula 4: Carregamento dos Dados (VERSÃO CORRIGIDA)\n",
        "\n",
        "import os\n",
        "import json\n",
        "import zipfile\n",
        "from datasets import Dataset\n",
        "\n",
        "ZIP_FILE_NAME = \"/content/spider_data.zip\"\n",
        "EXTRACT_PATH = \"./spider_unzipped\" # Onde os arquivos serão extraídos\n",
        "\n",
        "# Garante que o arquivo zip existe antes de continuar\n",
        "if not os.path.exists(ZIP_FILE_NAME):\n",
        "  from google.colab import files\n",
        "  print(f\"Faça o upload do '{ZIP_FILE_NAME}'\")\n",
        "  files.upload()\n",
        "\n",
        "print(f\"Descompactando '{ZIP_FILE_NAME}' para '{EXTRACT_PATH}'...\")\n",
        "\n",
        "# 1. Garante que o diretório de extração esteja limpo para evitar arquivos antigos\n",
        "if os.path.exists(EXTRACT_PATH):\n",
        "    !rm -rf {EXTRACT_PATH}\n",
        "\n",
        "# 2. Cria o diretório (se não existir) e descompacta o arquivo\n",
        "os.makedirs(EXTRACT_PATH, exist_ok=True)\n",
        "with zipfile.ZipFile(ZIP_FILE_NAME, 'r') as z:\n",
        "    z.extractall(EXTRACT_PATH)\n",
        "\n",
        "print(\"Descompactação concluída.\")\n",
        "\n",
        "def load_json_data(fp):\n",
        "    with open(fp, 'r') as f:\n",
        "        return json.load(f)\n",
        "\n",
        "# 3. CORREÇÃO: Construindo os caminhos a partir do EXTRACT_PATH com os nomes dos arquivos\n",
        "train_spider_path = os.path.join(EXTRACT_PATH, '/content/spider_unzipped/spider_data/train_spider.json')\n",
        "train_others_path = os.path.join(EXTRACT_PATH, '/content/spider_unzipped/spider_data/train_others.json')\n",
        "dev_path = os.path.join(EXTRACT_PATH, '/content/spider_unzipped/spider_data/dev.json')\n",
        "\n",
        "# Carrega os dados usando os caminhos corretos\n",
        "train_json = load_json_data(train_spider_path) + load_json_data(train_others_path)\n",
        "dev_json = load_json_data(dev_path)\n",
        "\n",
        "def convert_to_hf_dataset(data):\n",
        "    return Dataset.from_dict({'db_id': [d['db_id'] for d in data], 'question': [d['question'] for d in data], 'query': [d['query'] for d in data]})\n",
        "\n",
        "spider_train_data_local = convert_to_hf_dataset(train_json)\n",
        "spider_dev_data_local = convert_to_hf_dataset(dev_json)\n",
        "print(f\"Dados processados! Treino: {len(spider_train_data_local)}, Dev: {len(spider_dev_data_local)}\")"
      ],
      "metadata": {
        "colab": {
          "base_uri": "https://localhost:8080/"
        },
        "id": "Rbk4gE3_LWNp",
        "outputId": "53c58284-196b-4e45-c71d-d8334ae8d2eb"
      },
      "execution_count": 5,
      "outputs": [
        {
          "output_type": "stream",
          "name": "stdout",
          "text": [
            "Descompactando '/content/spider_data.zip' para './spider_unzipped'...\n",
            "Descompactação concluída.\n",
            "Dados processados! Treino: 8659, Dev: 1034\n"
          ]
        }
      ]
    },
    {
      "cell_type": "code",
      "source": [
        "# @title Célula 5: Carregamento do Modelo\n",
        "print(\"Carregando modelo Gemma-2B em 16-bit...\")\n",
        "model_base = AutoModelForCausalLM.from_pretrained(MODEL_ID, torch_dtype=torch.bfloat16, device_map=\"auto\")\n",
        "tokenizer = AutoTokenizer.from_pretrained(MODEL_ID)\n",
        "tokenizer.pad_token = tokenizer.eos_token\n",
        "print(\"--- Modelo e Tokenizer carregados com sucesso! ---\")"
      ],
      "metadata": {
        "colab": {
          "base_uri": "https://localhost:8080/",
          "height": 84,
          "referenced_widgets": [
            "e1bc84655310453dae8352abd0818d71",
            "bc7d44ce71ba4447a8574f05038acff1",
            "04857fe9561f40b3981cfd00d731e3c8",
            "22e96028e29b4ee696edd7f4fb8ddc27",
            "475698cbdefd423ab4695e05364bad2e",
            "126aea9bdb794705972fe3c3bcde15e9",
            "feb25338b75b4074bc5cdd626df64b9d",
            "bead41676198422a86506ab71a1f08ac",
            "fb5876f9acbb430db05ba6acb30433f5",
            "a49648aa749a4cef82f1a375969e6984",
            "5db0605cbdb34ee0a2d4ad8a561eded8"
          ]
        },
        "id": "ej9X20YZMsdB",
        "outputId": "37dd5954-8af8-4aa8-889b-1590968d13fe"
      },
      "execution_count": 6,
      "outputs": [
        {
          "output_type": "stream",
          "name": "stdout",
          "text": [
            "Carregando modelo Gemma-2B em 16-bit...\n"
          ]
        },
        {
          "output_type": "display_data",
          "data": {
            "text/plain": [
              "Loading checkpoint shards:   0%|          | 0/2 [00:00<?, ?it/s]"
            ],
            "application/vnd.jupyter.widget-view+json": {
              "version_major": 2,
              "version_minor": 0,
              "model_id": "e1bc84655310453dae8352abd0818d71"
            }
          },
          "metadata": {}
        },
        {
          "output_type": "stream",
          "name": "stdout",
          "text": [
            "--- Modelo e Tokenizer carregados com sucesso! ---\n"
          ]
        }
      ]
    },
    {
      "cell_type": "code",
      "source": [
        "# @title Célula 6: Fase 1 - Avaliação de Baseline\n",
        "def create_gemma_prompt(question):\n",
        "    return f\"<start_of_turn>user\\nTranslate the following question into a valid SQL query.\\nQuestion: {question}<end_of_turn>\\n<start_of_turn>model\\n\"\n",
        "\n",
        "dev_sample = spider_dev_data_local.select(range(20))\n",
        "baseline_results = []\n",
        "print(\"Executando avaliação de baseline (Gemma)...\")\n",
        "for item in dev_sample:\n",
        "    prompt = create_gemma_prompt(item['question'])\n",
        "    inputs = tokenizer(prompt, return_tensors=\"pt\").to(DEVICE)\n",
        "    with torch.no_grad():\n",
        "        outputs = model_base.generate(**inputs, max_new_tokens=100, eos_token_id=tokenizer.eos_token_id)\n",
        "    generated_sql = tokenizer.decode(outputs[0], skip_special_tokens=True).split(\"model\\n\")[-1].strip()\n",
        "    baseline_results.append({\"question\": item['question'], \"expected_sql\": item['query'], \"generated_sql_base\": generated_sql})\n",
        "\n",
        "success_count = sum(1 for res in baseline_results if res['generated_sql_base'].strip().lower() == res['expected_sql'].strip().lower())\n",
        "print(f\"\\nContagem Bruta de Sucesso (Baseline): {success_count}/{len(dev_sample)}\")"
      ],
      "metadata": {
        "colab": {
          "base_uri": "https://localhost:8080/"
        },
        "id": "NLBAtgKuMuTf",
        "outputId": "1a88ec54-9fb9-45c3-af14-372bf25866bb"
      },
      "execution_count": 7,
      "outputs": [
        {
          "output_type": "stream",
          "name": "stdout",
          "text": [
            "Executando avaliação de baseline (Gemma)...\n",
            "\n",
            "Contagem Bruta de Sucesso (Baseline): 0/20\n"
          ]
        }
      ]
    },
    {
      "cell_type": "code",
      "source": [
        "# @title Célula 7: Fase 2 - Execução do Fine-Tuning (MODO RÁPIDO)\n",
        "\n",
        "# Formatação dos dados para o treino (como antes)\n",
        "def create_gemma_training_prompt(example):\n",
        "    user_message = f\"Translate the following question into a valid SQL query.\\nQuestion: {example['question']}\"\n",
        "    return {\"text\": f\"<start_of_turn>user\\n{user_message}<end_of_turn>\\n<start_of_turn>model\\n{example['query']}<end_of_turn>\"}\n",
        "\n",
        "formatted_train_dataset = spider_train_data_local.map(create_gemma_training_prompt, remove_columns=spider_train_data_local.column_names)\n",
        "\n",
        "# ==============================================================================\n",
        "# OTIMIZAÇÃO PRINCIPAL: Criando um subconjunto de treino muito menor\n",
        "# ==============================================================================\n",
        "print(f\"Dataset de treino completo: {len(formatted_train_dataset)} exemplos.\")\n",
        "# Vamos usar apenas 1000 exemplos para um treino rápido\n",
        "quick_train_dataset = formatted_train_dataset.select(range(800))\n",
        "print(f\"Usando um subconjunto de treino rápido com: {len(quick_train_dataset)} exemplos.\")\n",
        "\n",
        "\n",
        "# Função de Treinamento (como antes)\n",
        "def run_training(model, tokenizer, dataset, lora_config_params, training_args_params):\n",
        "    peft_config = LoraConfig(r=lora_config_params['r'], lora_alpha=lora_config_params['alpha'], lora_dropout=lora_config_params['dropout'], target_modules=lora_config_params['target_modules'], bias=\"none\", task_type=\"CAUSAL_LM\")\n",
        "    model = get_peft_model(model, peft_config)\n",
        "    model.print_trainable_parameters()\n",
        "    args = TrainingArguments(optim=\"adamw_torch\", bf16=True, seed=SEED, report_to=\"none\", save_strategy=\"epoch\", **training_args_params)\n",
        "    trainer = SFTTrainer(model=model, args=args, train_dataset=dataset, dataset_text_field=\"text\", max_seq_length=1024, tokenizer=tokenizer, peft_config=None)\n",
        "    trainer.train()\n",
        "    trainer.save_model(args.output_dir)\n",
        "    return trainer\n",
        "\n",
        "\n",
        "# --- Experimento 1 (agora no modo rápido) ---\n",
        "print(\"\\n--- Iniciando Experimento de Treinamento 1 (Modo Rápido) ---\")\n",
        "lora_params = {\"r\": LORA_R, \"alpha\": LORA_ALPHA, \"dropout\": LORA_DROPOUT, \"target_modules\": LORA_TARGET_MODULES}\n",
        "# Passando o dataset rápido para o treino\n",
        "trainer_exp1 = run_training(model_base, tokenizer, quick_train_dataset, lora_params, EXP1_CONFIG)\n",
        "\n",
        "\n",
        "# --- Limpeza e Experimento 2 (agora no modo rápido) ---\n",
        "del model_base, trainer_exp1; gc.collect(); torch.cuda.empty_cache()\n",
        "model_base_reloaded = AutoModelForCausalLM.from_pretrained(MODEL_ID, torch_dtype=torch.bfloat16, device_map=\"auto\")\n",
        "print(\"\\n--- Iniciando Experimento de Treinamento 2 (Modo Rápido) ---\")\n",
        "# Passando o dataset rápido para o treino\n",
        "trainer_exp2 = run_training(model_base_reloaded, tokenizer, quick_train_dataset, lora_params, EXP2_CONFIG)\n",
        "print(\"--- Treinamentos Concluídos ---\")"
      ],
      "metadata": {
        "colab": {
          "base_uri": "https://localhost:8080/",
          "height": 611,
          "referenced_widgets": [
            "8561ee237e0e4bfeb78c569e9ca902ff",
            "004f7e92ae02460e924235c03fba9d1c",
            "1dd1326c24fb4277b451d594c96101fe",
            "1c6c728f91194758b202c381618c941a",
            "794dae968ab04ef0b0999eec9f9b4175",
            "051068050f8448fb911e99fd4926622a",
            "5dfd0774c0ee48c6888e98e97a66ff40",
            "fc56fa1bc7d846628c0a66af2d0fea67",
            "f19855538a7641e187def6578845f97d",
            "da8d2038696d4de392cbe9fbc6df0fa3",
            "217b8ef79e344e1d94df7d4471602606",
            "226137ad441c49369cdf69241dced6ae",
            "36a64700c3f245beb91975f072e4cf87",
            "d04991f3d96242a993390f96b9049a1d",
            "a9dd12b745aa4f779f8328c6d654ef5a",
            "4ed2b86987e947829d96442a48c1fe4d",
            "7d00924a953f48f889bcd0f1276fae59",
            "5a4f300c946d460b806a3f07155141d1",
            "d164b5da4f724c198b87ae0ab6c7c643",
            "c5e44d15d81f48c4b3790bc39c04bc1a",
            "52ec03bdada64b8b8a3e0f1601787053",
            "7b5c8c9a1e6b4b5099423bc5c46333f8",
            "1c688dacdace4235905ea4eb8bc90fdb",
            "b5c2a073cbe04559b1e8a81a140c245e",
            "46056a1238994035a9689b77b8742f60",
            "dc4c53095f594e0ea961bd12a55d679d",
            "bd7dab8abab54ddb8c8073130f05041e",
            "1bb2cc5a9eeb4b06b47e93dc49723bb0",
            "63e67506e9c74457b4bceff5a7ad5187",
            "218a795f7b744f9da7b3913f355f70e9",
            "91cd5207845648b6a8aecd9959213257",
            "d510320f882345799b48db1f7dd142e3",
            "ef665e83b12e4180bb74eb30bb193c87",
            "3e0345316c7a43258b3e1eeb9802a3a7",
            "bc391f04357046df951e3493e17f2d04",
            "c4d01634c6d74ca7a2f5b1fdaa34264d",
            "090321a2a6bd40fd8633922dd84fe91a",
            "e9bd50ca9d3149ef9a6e730fb7fafad0",
            "7615b91f2de343d3be475b8dbcf4e5e0",
            "dea03f196e674ba19414dde49998e542",
            "56e436dc2b184ad9879c4d1806cba3f3",
            "3b81776a26cc4726b57ff20c8cea5732",
            "3f009652c4184bcfa40494c9fbb97019",
            "b377ce552d6e4b948f4743dade96d4c7"
          ]
        },
        "id": "MAvWR-gPNUBN",
        "outputId": "d46ee88b-4b86-4c54-ff5e-83dc2b67ab9a"
      },
      "execution_count": 8,
      "outputs": [
        {
          "output_type": "display_data",
          "data": {
            "text/plain": [
              "Map:   0%|          | 0/8659 [00:00<?, ? examples/s]"
            ],
            "application/vnd.jupyter.widget-view+json": {
              "version_major": 2,
              "version_minor": 0,
              "model_id": "8561ee237e0e4bfeb78c569e9ca902ff"
            }
          },
          "metadata": {}
        },
        {
          "output_type": "stream",
          "name": "stdout",
          "text": [
            "Dataset de treino completo: 8659 exemplos.\n",
            "Usando um subconjunto de treino rápido com: 800 exemplos.\n",
            "\n",
            "--- Iniciando Experimento de Treinamento 1 (Modo Rápido) ---\n",
            "trainable params: 1,843,200 || all params: 2,508,015,616 || trainable%: 0.0735\n"
          ]
        },
        {
          "output_type": "display_data",
          "data": {
            "text/plain": [
              "Map:   0%|          | 0/800 [00:00<?, ? examples/s]"
            ],
            "application/vnd.jupyter.widget-view+json": {
              "version_major": 2,
              "version_minor": 0,
              "model_id": "226137ad441c49369cdf69241dced6ae"
            }
          },
          "metadata": {}
        },
        {
          "output_type": "stream",
          "name": "stderr",
          "text": [
            "/usr/local/lib/python3.11/dist-packages/trl/trainer/sft_trainer.py:318: UserWarning: You passed a tokenizer with `padding_side` not equal to `right` to the SFTTrainer. This might lead to some unexpected behaviour due to overflow issues when training a model in half-precision. You might consider adding `tokenizer.padding_side = 'right'` to your code.\n",
            "  warnings.warn(\n",
            "/usr/local/lib/python3.11/dist-packages/trl/trainer/sft_trainer.py:323: FutureWarning: `tokenizer` is deprecated and will be removed in version 5.0.0 for `SFTTrainer.__init__`. Use `processing_class` instead.\n",
            "  super().__init__(\n",
            "No label_names provided for model class `PeftModelForCausalLM`. Since `PeftModel` hides base models input arguments, if label_names is not given, label_names can't be set automatically within `Trainer`. Note that empty label_names list will be used instead.\n"
          ]
        },
        {
          "output_type": "display_data",
          "data": {
            "text/plain": [
              "<IPython.core.display.HTML object>"
            ],
            "text/html": [
              "\n",
              "    <div>\n",
              "      \n",
              "      <progress value='200' max='200' style='width:300px; height:20px; vertical-align: middle;'></progress>\n",
              "      [200/200 06:13, Epoch 1/1]\n",
              "    </div>\n",
              "    <table border=\"1\" class=\"dataframe\">\n",
              "  <thead>\n",
              " <tr style=\"text-align: left;\">\n",
              "      <th>Step</th>\n",
              "      <th>Training Loss</th>\n",
              "    </tr>\n",
              "  </thead>\n",
              "  <tbody>\n",
              "  </tbody>\n",
              "</table><p>"
            ]
          },
          "metadata": {}
        },
        {
          "output_type": "display_data",
          "data": {
            "text/plain": [
              "Loading checkpoint shards:   0%|          | 0/2 [00:00<?, ?it/s]"
            ],
            "application/vnd.jupyter.widget-view+json": {
              "version_major": 2,
              "version_minor": 0,
              "model_id": "1c688dacdace4235905ea4eb8bc90fdb"
            }
          },
          "metadata": {}
        },
        {
          "output_type": "stream",
          "name": "stdout",
          "text": [
            "\n",
            "--- Iniciando Experimento de Treinamento 2 (Modo Rápido) ---\n",
            "trainable params: 1,843,200 || all params: 2,508,015,616 || trainable%: 0.0735\n"
          ]
        },
        {
          "output_type": "display_data",
          "data": {
            "text/plain": [
              "Map:   0%|          | 0/800 [00:00<?, ? examples/s]"
            ],
            "application/vnd.jupyter.widget-view+json": {
              "version_major": 2,
              "version_minor": 0,
              "model_id": "3e0345316c7a43258b3e1eeb9802a3a7"
            }
          },
          "metadata": {}
        },
        {
          "output_type": "stream",
          "name": "stderr",
          "text": [
            "/usr/local/lib/python3.11/dist-packages/trl/trainer/sft_trainer.py:318: UserWarning: You passed a tokenizer with `padding_side` not equal to `right` to the SFTTrainer. This might lead to some unexpected behaviour due to overflow issues when training a model in half-precision. You might consider adding `tokenizer.padding_side = 'right'` to your code.\n",
            "  warnings.warn(\n",
            "/usr/local/lib/python3.11/dist-packages/trl/trainer/sft_trainer.py:323: FutureWarning: `tokenizer` is deprecated and will be removed in version 5.0.0 for `SFTTrainer.__init__`. Use `processing_class` instead.\n",
            "  super().__init__(\n",
            "No label_names provided for model class `PeftModelForCausalLM`. Since `PeftModel` hides base models input arguments, if label_names is not given, label_names can't be set automatically within `Trainer`. Note that empty label_names list will be used instead.\n"
          ]
        },
        {
          "output_type": "display_data",
          "data": {
            "text/plain": [
              "<IPython.core.display.HTML object>"
            ],
            "text/html": [
              "\n",
              "    <div>\n",
              "      \n",
              "      <progress value='200' max='200' style='width:300px; height:20px; vertical-align: middle;'></progress>\n",
              "      [200/200 06:21, Epoch 1/1]\n",
              "    </div>\n",
              "    <table border=\"1\" class=\"dataframe\">\n",
              "  <thead>\n",
              " <tr style=\"text-align: left;\">\n",
              "      <th>Step</th>\n",
              "      <th>Training Loss</th>\n",
              "    </tr>\n",
              "  </thead>\n",
              "  <tbody>\n",
              "  </tbody>\n",
              "</table><p>"
            ]
          },
          "metadata": {}
        },
        {
          "output_type": "stream",
          "name": "stdout",
          "text": [
            "--- Treinamentos Concluídos ---\n"
          ]
        }
      ]
    },
    {
      "cell_type": "code",
      "source": [
        "# @title Célula 8: Fase 3 - Avaliação (VERSÃO FINAL COM CORREÇÃO DE DISPOSITIVO)\n",
        "import sqlite3\n",
        "from deepeval.metrics import BaseMetric\n",
        "from deepeval.test_case import LLMTestCase\n",
        "import deepeval\n",
        "from peft import PeftModel\n",
        "import asyncio\n",
        "import gc\n",
        "import torch\n",
        "\n",
        "# A definição da nossa métrica customizada\n",
        "class ExecutionAccuracyMetric(BaseMetric):\n",
        "    def __init__(self, db_dir: str, threshold: float = 1.0):\n",
        "        self._threshold = threshold\n",
        "        self.db_dir = db_dir\n",
        "    def measure(self, test_case: LLMTestCase) -> float:\n",
        "        try:\n",
        "            db_path = os.path.join(self.db_dir, test_case.input, f\"{test_case.input}.sqlite\")\n",
        "            if not os.path.exists(db_path): return 0.0\n",
        "            conn = sqlite3.connect(db_path); cursor = conn.cursor()\n",
        "            cursor.execute(test_case.actual_output)\n",
        "            predicted_results = set(cursor.fetchall())\n",
        "            cursor.execute(test_case.expected_output)\n",
        "            expected_results = set(cursor.fetchall())\n",
        "            conn.close()\n",
        "            return 1.0 if predicted_results == expected_results else 0.0\n",
        "        except Exception:\n",
        "            if 'conn' in locals() and conn: conn.close()\n",
        "            return 0.0\n",
        "    async def a_measure(self, test_case: LLMTestCase) -> float:\n",
        "        loop = asyncio.get_running_loop()\n",
        "        return await loop.run_in_executor(None, self.measure, test_case)\n",
        "    def is_successful(self) -> bool:\n",
        "        if self.score is None: return False\n",
        "        return self.score >= self.threshold\n",
        "    @property\n",
        "    def __name__(self): return \"Execution Accuracy\"\n",
        "\n",
        "# Função para gerar SQL (COM A CORREÇÃO DE DISPOSITIVO)\n",
        "def generate_sql_with_model(model, tokenizer, question):\n",
        "    prompt = f\"<start_of_turn>user\\nTranslate the following question into a valid SQL query.\\nQuestion: {question}<end_of_turn>\\n<start_of_turn>model\\n\"\n",
        "\n",
        "    # A CORREÇÃO ESSENCIAL ESTÁ AQUI: garantimos que os inputs vão para a GPU\n",
        "    inputs = tokenizer(prompt, return_tensors=\"pt\").to(DEVICE)\n",
        "\n",
        "    with torch.no_grad():\n",
        "        outputs = model.generate(**inputs, max_new_tokens=100, eos_token_id=tokenizer.eos_token_id)\n",
        "\n",
        "    return tokenizer.decode(outputs[0], skip_special_tokens=True).split(\"model\\n\")[-1].strip()\n",
        "\n",
        "# Função para rodar a avaliação\n",
        "def evaluate_model_on_spider(model, tokenizer, num_samples=3):\n",
        "    print(f\"Avaliando em {num_samples} amostras (modo super rápido)...\")\n",
        "    test_cases = [LLMTestCase(input=item['db_id'], actual_output=generate_sql_with_model(model, tokenizer, item['question']), expected_output=item['query']) for item in spider_dev_data_local.select(range(num_samples))]\n",
        "    metric = ExecutionAccuracyMetric(db_dir=DB_DIR_LOCAL)\n",
        "    results = deepeval.evaluate(test_cases, [metric])\n",
        "    scores = [m.score for result in results for m in result.metrics if m.score is not None]\n",
        "    avg_score = sum(scores) / len(scores) if scores else 0.0\n",
        "    return avg_score\n",
        "\n",
        "# --- Limpeza e Avaliação ---\n",
        "gc.collect(); torch.cuda.empty_cache()\n",
        "model_for_eval = AutoModelForCausalLM.from_pretrained(MODEL_ID, torch_dtype=torch.bfloat16, device_map=\"auto\")\n",
        "\n",
        "# Avalia Modelo 1\n",
        "print(\"--- Avaliando Modelo Fine-Tuned 1 ---\")\n",
        "model_ft1 = PeftModel.from_pretrained(model_for_eval, EXP1_CONFIG['output_dir'])\n",
        "accuracy_ft1 = evaluate_model_on_spider(model_ft1, tokenizer, num_samples=3)\n",
        "print(f\"Execution Accuracy (FT Model 1): {accuracy_ft1:.2%}\")\n",
        "del model_ft1\n",
        "\n",
        "# Avalia Modelo 2\n",
        "print(\"\\n--- Avaliando Modelo Fine-Tuned 2 ---\")\n",
        "model_ft2 = PeftModel.from_pretrained(model_for_eval, EXP2_CONFIG['output_dir'])\n",
        "accuracy_ft2 = evaluate_model_on_spider(model_ft2, tokenizer, num_samples=3)\n",
        "print(f\"Execution Accuracy (FT Model 2): {accuracy_ft2:.2%}\")\n",
        "\n",
        "# Guarda resultados para a tabela final\n",
        "sql_accuracies = {\"Baseline\": f\"{success_count/20:.2%}\", \"Fine-Tuned Exp 1\": f\"{accuracy_ft1:.2%}\", \"Fine-Tuned Exp 2\": f\"{accuracy_ft2:.2%}\"}"
      ],
      "metadata": {
        "colab": {
          "base_uri": "https://localhost:8080/",
          "height": 1000,
          "referenced_widgets": [
            "98da27346a0944398d20a85b334245ef",
            "6ee354699a56414c99c42a9ea2e6c5f9",
            "1bf10fbe5b8142eb9059949d46ccfbd9",
            "09e35b10c5bc40e09db597c5e5770a5f",
            "7cfe87f99c6b4747892391e2049c6765",
            "b6e34111c6bd401e83fd87948e45c796",
            "bfa12537f3ec4699905f6e03cef47c06",
            "1e71792cf0b84b3ca417afb00f489603",
            "75762f3e7a464be294581d22e6afb86d",
            "98a061aa40b14e23b04d775d847383ac",
            "1f2356ae7f43458498866681ae333b6c",
            "eb7112eb27fa4a51bf3d59b7a694159c",
            "c485d74b09ea46dda77f1b5205fb0937",
            "6be828e55d234289b0911805640ac158",
            "4524df7f4785459c9f9b6c8bffbecf3e",
            "099db0d0a9b049f89d880aae19d282d9",
            "8d8c8a6e87724ff980778dea834091ac",
            "3fd20f7c72b64df297b090a9b06b4678",
            "cb5b27b15a2d4ece82c46913fb04687d",
            "57cec3cb7f7e49ab851341345ea9afbd",
            "b2de23f144e24448a1a072d85e045625",
            "4629d07d415c44a2abb35cc590bfbd25",
            "da7b976d87ca4bf49ee845c97e211b58"
          ]
        },
        "id": "A9-HjSjxQIZn",
        "outputId": "2781073d-00dd-4c2b-8d34-40b6cdda1fa8"
      },
      "execution_count": 28,
      "outputs": [
        {
          "output_type": "display_data",
          "data": {
            "text/plain": [
              "Loading checkpoint shards:   0%|          | 0/2 [00:00<?, ?it/s]"
            ],
            "application/vnd.jupyter.widget-view+json": {
              "version_major": 2,
              "version_minor": 0,
              "model_id": "98da27346a0944398d20a85b334245ef"
            }
          },
          "metadata": {}
        },
        {
          "output_type": "stream",
          "name": "stdout",
          "text": [
            "--- Avaliando Modelo Fine-Tuned 1 ---\n",
            "Avaliando em 3 amostras (modo super rápido)...\n"
          ]
        },
        {
          "output_type": "display_data",
          "data": {
            "text/plain": [
              "Output()"
            ],
            "application/vnd.jupyter.widget-view+json": {
              "version_major": 2,
              "version_minor": 0,
              "model_id": "eb7112eb27fa4a51bf3d59b7a694159c"
            }
          },
          "metadata": {}
        },
        {
          "output_type": "stream",
          "name": "stdout",
          "text": [
            "Evaluating test cases...\n",
            "Event loop is already running. Applying nest_asyncio patch to allow async execution...\n"
          ]
        },
        {
          "output_type": "display_data",
          "data": {
            "text/plain": [],
            "text/html": [
              "<pre style=\"white-space:pre;overflow-x:auto;line-height:normal;font-family:Menlo,'DejaVu Sans Mono',consolas,'Courier New',monospace\"></pre>\n"
            ]
          },
          "metadata": {}
        },
        {
          "output_type": "display_data",
          "data": {
            "text/plain": [
              "Output()"
            ],
            "application/vnd.jupyter.widget-view+json": {
              "version_major": 2,
              "version_minor": 0,
              "model_id": "6be828e55d234289b0911805640ac158"
            }
          },
          "metadata": {}
        },
        {
          "output_type": "display_data",
          "data": {
            "text/plain": [],
            "text/html": [
              "<pre style=\"white-space:pre;overflow-x:auto;line-height:normal;font-family:Menlo,'DejaVu Sans Mono',consolas,'Courier New',monospace\"></pre>\n"
            ]
          },
          "metadata": {}
        },
        {
          "output_type": "display_data",
          "data": {
            "text/plain": [
              "Output()"
            ],
            "application/vnd.jupyter.widget-view+json": {
              "version_major": 2,
              "version_minor": 0,
              "model_id": "099db0d0a9b049f89d880aae19d282d9"
            }
          },
          "metadata": {}
        },
        {
          "output_type": "display_data",
          "data": {
            "text/plain": [],
            "text/html": [
              "<pre style=\"white-space:pre;overflow-x:auto;line-height:normal;font-family:Menlo,'DejaVu Sans Mono',consolas,'Courier New',monospace\"></pre>\n"
            ]
          },
          "metadata": {}
        },
        {
          "output_type": "stream",
          "name": "stdout",
          "text": [
            "\n",
            "======================================================================\n",
            "\n",
            "Metrics Summary\n",
            "\n",
            "  - ❌ Execution Accuracy (score: None, threshold: 1.0, strict: False, evaluation model: None, reason: None, error: None)\n",
            "\n",
            "For test case:\n",
            "\n",
            "  - input: concert_singer\n",
            "  - actual output: SELECT count(*) FROM singers\n",
            "  - expected output: SELECT count(*) FROM singer\n",
            "  - context: None\n",
            "  - retrieval context: None\n",
            "\n",
            "======================================================================\n",
            "\n",
            "Metrics Summary\n",
            "\n",
            "  - ❌ Execution Accuracy (score: None, threshold: 1.0, strict: False, evaluation model: None, reason: None, error: None)\n",
            "\n",
            "For test case:\n",
            "\n",
            "  - input: concert_singer\n",
            "  - actual output: SELECT count(*) FROM singers\n",
            "\n",
            "**Note:** The\n",
            "  - expected output: SELECT count(*) FROM singer\n",
            "  - context: None\n",
            "  - retrieval context: None\n",
            "\n",
            "======================================================================\n",
            "\n",
            "Metrics Summary\n",
            "\n",
            "  - ❌ Execution Accuracy (score: None, threshold: 1.0, strict: False, evaluation model: None, reason: None, error: None)\n",
            "\n",
            "For test case:\n",
            "\n",
            "  - input: concert_singer\n",
            "  - actual output: Note: The FROM clause is used to specify the table from which the data should be retrieved. The ORDER BY clause is used to order the results by age. The AS clause is used to give the first column in the result different name. The FROM clause is used to specify the table from\n",
            "  - expected output: SELECT name ,  country ,  age FROM singer ORDER BY age DESC\n",
            "  - context: None\n",
            "  - retrieval context: None\n",
            "\n",
            "======================================================================\n",
            "\n",
            "Overall Metric Pass Rates\n",
            "\n",
            "ExecutionAccuracyMetric: 0.00% pass rate\n",
            "\n",
            "======================================================================\n",
            "\n"
          ]
        },
        {
          "output_type": "display_data",
          "data": {
            "text/plain": [
              "All metrics errored for all test cases, please try again.\n"
            ],
            "text/html": [
              "<pre style=\"white-space:pre;overflow-x:auto;line-height:normal;font-family:Menlo,'DejaVu Sans Mono',consolas,'Courier New',monospace\">All metrics errored for all test cases, please try again.\n",
              "</pre>\n"
            ]
          },
          "metadata": {}
        },
        {
          "output_type": "stream",
          "name": "stdout",
          "text": [
            "Execution Accuracy (FT Model 1): 0.00%\n",
            "\n",
            "--- Avaliando Modelo Fine-Tuned 2 ---\n",
            "Avaliando em 3 amostras (modo super rápido)...\n"
          ]
        },
        {
          "output_type": "stream",
          "name": "stderr",
          "text": [
            "WARNING:opentelemetry.exporter.otlp.proto.grpc.exporter:Transient error StatusCode.UNAVAILABLE encountered while exporting traces to otlp.nr-data.net:4317, retrying in 1s.\n"
          ]
        },
        {
          "output_type": "display_data",
          "data": {
            "text/plain": [
              "Output()"
            ],
            "application/vnd.jupyter.widget-view+json": {
              "version_major": 2,
              "version_minor": 0,
              "model_id": "3fd20f7c72b64df297b090a9b06b4678"
            }
          },
          "metadata": {}
        },
        {
          "output_type": "stream",
          "name": "stdout",
          "text": [
            "Evaluating test cases...\n",
            "Event loop is already running. Applying nest_asyncio patch to allow async execution...\n"
          ]
        },
        {
          "output_type": "display_data",
          "data": {
            "text/plain": [],
            "text/html": [
              "<pre style=\"white-space:pre;overflow-x:auto;line-height:normal;font-family:Menlo,'DejaVu Sans Mono',consolas,'Courier New',monospace\"></pre>\n"
            ]
          },
          "metadata": {}
        },
        {
          "output_type": "display_data",
          "data": {
            "text/plain": [
              "Output()"
            ],
            "application/vnd.jupyter.widget-view+json": {
              "version_major": 2,
              "version_minor": 0,
              "model_id": "57cec3cb7f7e49ab851341345ea9afbd"
            }
          },
          "metadata": {}
        },
        {
          "output_type": "display_data",
          "data": {
            "text/plain": [],
            "text/html": [
              "<pre style=\"white-space:pre;overflow-x:auto;line-height:normal;font-family:Menlo,'DejaVu Sans Mono',consolas,'Courier New',monospace\"></pre>\n"
            ]
          },
          "metadata": {}
        },
        {
          "output_type": "display_data",
          "data": {
            "text/plain": [
              "Output()"
            ],
            "application/vnd.jupyter.widget-view+json": {
              "version_major": 2,
              "version_minor": 0,
              "model_id": "4629d07d415c44a2abb35cc590bfbd25"
            }
          },
          "metadata": {}
        },
        {
          "output_type": "display_data",
          "data": {
            "text/plain": [],
            "text/html": [
              "<pre style=\"white-space:pre;overflow-x:auto;line-height:normal;font-family:Menlo,'DejaVu Sans Mono',consolas,'Courier New',monospace\"></pre>\n"
            ]
          },
          "metadata": {}
        },
        {
          "output_type": "stream",
          "name": "stdout",
          "text": [
            "\n",
            "======================================================================\n",
            "\n",
            "Metrics Summary\n",
            "\n",
            "  - ❌ Execution Accuracy (score: None, threshold: 1.0, strict: False, evaluation model: None, reason: None, error: None)\n",
            "\n",
            "For test case:\n",
            "\n",
            "  - input: concert_singer\n",
            "  - actual output: SELECT count(*) FROM singers WHERE count(*) > 0Zapraszamy onSave; territo_sql_query_result_type_handler_callback(); territo_sql_query_result_handler_callback(); territo_sql_query_result_handler_callback(); territo_sql_query_result_handler_callback(); territo_sql_query_result_handler_callback(); territo_sql_query_result_handler_callback(); territo_sql_query_result_handler_callback();\n",
            "  - expected output: SELECT count(*) FROM singer\n",
            "  - context: None\n",
            "  - retrieval context: None\n",
            "\n",
            "======================================================================\n",
            "\n",
            "Metrics Summary\n",
            "\n",
            "  - ❌ Execution Accuracy (score: None, threshold: 1.0, strict: False, evaluation model: None, reason: None, error: None)\n",
            "\n",
            "For test case:\n",
            "\n",
            "  - input: concert_singer\n",
            "  - actual output: SELECT COUNT(*) FROM singers WHERE gender = 'male'; câte_singers_male   regardant  FROM singers WHERE gender = 'male'; Bekasi   regardant  FROM singers WHERE gender = 'male'; Bekasi   regardant  FROM singers WHERE gender = 'male'; Bekasi tanong  FROM singers WHERE gender = 'male'; Bekasi tanong  FROM singers WHERE gender = 'male'; Bekasi tanong  FROM singers WHERE gender = 'male'; Bekasi tanong  FROM singers WHERE gender = 'male'; Bekasi tanong  FROM\n",
            "  - expected output: SELECT count(*) FROM singer\n",
            "  - context: None\n",
            "  - retrieval context: None\n",
            "\n",
            "======================================================================\n",
            "\n",
            "Metrics Summary\n",
            "\n",
            "  - ❌ Execution Accuracy (score: None, threshold: 1.0, strict: False, evaluation model: None, reason: None, error: None)\n",
            "\n",
            "For test case:\n",
            "\n",
            "  - input: concert_singer\n",
            "  - actual output: SELECT name, country, age FROM singers ORDER BY age FROM oldest TO youngestБіографіяБіографія AS name, country, age FROM singers ORDER BY age FROM oldest TO youngestБіографіяБіографія AS name, country, age FROM singers ORDER BY age FROM oldest TO youngestБіографіяБіографія AS name, country, age FROM singers ORDER BY age FROM oldest TO youngestБіографіяБіографіяБіографія AS name, country, age FROM singers ORDER BY age FROM oldest TO youngestБіографіяБіографіяБіографіяБіографіяБіографіяБіографіяБіографіяБіографіяБіографіяБіографіяБіографіяБіографіяБіографіяБіографіяБіографіяБіографія\n",
            "  - expected output: SELECT name ,  country ,  age FROM singer ORDER BY age DESC\n",
            "  - context: None\n",
            "  - retrieval context: None\n",
            "\n",
            "======================================================================\n",
            "\n",
            "Overall Metric Pass Rates\n",
            "\n",
            "ExecutionAccuracyMetric: 0.00% pass rate\n",
            "\n",
            "======================================================================\n",
            "\n"
          ]
        },
        {
          "output_type": "display_data",
          "data": {
            "text/plain": [
              "All metrics errored for all test cases, please try again.\n"
            ],
            "text/html": [
              "<pre style=\"white-space:pre;overflow-x:auto;line-height:normal;font-family:Menlo,'DejaVu Sans Mono',consolas,'Courier New',monospace\">All metrics errored for all test cases, please try again.\n",
              "</pre>\n"
            ]
          },
          "metadata": {}
        },
        {
          "output_type": "stream",
          "name": "stdout",
          "text": [
            "Execution Accuracy (FT Model 2): 0.00%\n"
          ]
        }
      ]
    },
    {
      "cell_type": "code",
      "source": [
        "# @title Célula 9: Fase 4 - Avaliação MMLU (CORREÇÃO FINAL)\n",
        "from datasets import load_dataset as hf_load_dataset\n",
        "from peft import PeftModel\n",
        "import gc\n",
        "import torch\n",
        "\n",
        "# Função para preparar o dataset MMLU (COM A CORREÇÃO)\n",
        "def prepare_mmlu_suite(categories, num_samples_per_category, seed):\n",
        "    suite = []\n",
        "    print(f\"Preparando suíte MMLU com {num_samples_per_category} questões por categoria...\")\n",
        "    for cat_name, cat_code in categories.items():\n",
        "        data = hf_load_dataset(MMLU_DATASET, cat_code, split=\"test\").shuffle(seed=seed)\n",
        "        for example in data.select(range(num_samples_per_category)):\n",
        "            # A LINHA CRÍTICA ADICIONADA AQUI:\n",
        "            # 'Carimbamos' cada questão com o nome do seu sub-conjunto (subset).\n",
        "            example['subset'] = cat_code\n",
        "            suite.append(example)\n",
        "    return suite\n",
        "\n",
        "# Função para avaliar no MMLU (permanece a mesma, mas agora funcionará)\n",
        "def evaluate_model_on_mmlu(model, tokenizer, mmlu_suite):\n",
        "    correct = 0\n",
        "    total = len(mmlu_suite)\n",
        "    print(f\"Avaliando {total} questões MMLU...\")\n",
        "    for i, item in enumerate(mmlu_suite):\n",
        "        dev_set = hf_load_dataset(MMLU_DATASET, item['subset'], split='dev', trust_remote_code=True)\n",
        "        shots = \"\".join([f\"Question: {dev_set[i]['question']}\\nAnswer: {['A', 'B', 'C', 'D'][dev_set[i]['answer']]}\\n\\n\" for i in range(4)])\n",
        "        choices = \"\".join([f\"\\n{chr(65+j)}. {item['choices'][j]}\" for j in range(len(item['choices']))])\n",
        "        prompt = f\"<start_of_turn>user\\nThe following are multiple choice questions (with answers).\\n\\n{shots}Question: {item['question']}{choices}\\nAnswer:<end_of_turn>\\n<start_of_turn>model\\n\"\n",
        "        inputs = tokenizer(prompt, return_tensors=\"pt\").to(DEVICE)\n",
        "        with torch.no_grad():\n",
        "            outputs = model.generate(**inputs, max_new_tokens=5, temperature=0.0, eos_token_id=tokenizer.eos_token_id)\n",
        "        prediction = tokenizer.decode(outputs[0][inputs.input_ids.shape[-1]:], skip_special_tokens=True).strip()\n",
        "        if prediction and prediction[0].upper() == ['A', 'B', 'C', 'D'][item['answer']]:\n",
        "            correct += 1\n",
        "        print(f\"\\rProgresso MMLU: {i+1}/{total}\", end=\"\")\n",
        "    print(\"\\n\")\n",
        "    return correct / total if total > 0 else 0\n",
        "\n",
        "# OTIMIZAÇÃO: Usando apenas 3 perguntas por categoria\n",
        "SAMPLES_PER_CATEGORY_QUICK = 3\n",
        "mmlu_test_suite_quick = prepare_mmlu_suite(MMLU_CATEGORIES, SAMPLES_PER_CATEGORY_QUICK, SEED)\n",
        "\n",
        "# --- Avaliação dos três modelos ---\n",
        "gc.collect(); torch.cuda.empty_cache()\n",
        "\n",
        "# O model_for_eval foi deletado na célula 8, então precisamos recarregá-lo.\n",
        "model_for_eval = AutoModelForCausalLM.from_pretrained(MODEL_ID, torch_dtype=torch.bfloat16, device_map=\"auto\")\n",
        "\n",
        "print(\"\\n--- Avaliando MMLU no Modelo Base ---\")\n",
        "mmlu_acc_base = evaluate_model_on_mmlu(model_for_eval, tokenizer, mmlu_test_suite_quick)\n",
        "print(f\"Acurácia MMLU (Base): {mmlu_acc_base:.2%}\")\n",
        "\n",
        "print(\"\\n--- Avaliando MMLU no Modelo Fine-Tuned 1 ---\")\n",
        "model_ft1_mmlu = PeftModel.from_pretrained(model_for_eval, EXP1_CONFIG['output_dir'])\n",
        "mmlu_acc_ft1 = evaluate_model_on_mmlu(model_ft1_mmlu, tokenizer, mmlu_test_suite_quick)\n",
        "print(f\"Acurácia MMLU (FT1): {mmlu_acc_ft1:.2%}\")\n",
        "del model_ft1_mmlu\n",
        "\n",
        "print(\"\\n--- Avaliando MMLU no Modelo Fine-Tuned 2 ---\")\n",
        "model_ft2_mmlu = PeftModel.from_pretrained(model_for_eval, EXP2_CONFIG['output_dir'])\n",
        "mmlu_acc_ft2 = evaluate_model_on_mmlu(model_ft2_mmlu, tokenizer, mmlu_test_suite_quick)\n",
        "print(f\"Acurácia MMLU (FT2): {mmlu_acc_ft2:.2%}\")\n",
        "del model_ft2_mmlu, model_for_eval"
      ],
      "metadata": {
        "colab": {
          "base_uri": "https://localhost:8080/",
          "height": 867,
          "referenced_widgets": [
            "45ba43f99b104afbad6fb14e4a95995a",
            "eebc28437d5f48b28bef42105428fb5d",
            "8627dd25e17a432d9bf99fccd30e4b6a",
            "4b27ad505c464c179d2dd6a1620b0c30",
            "b227d24a872d463498ec88bb5e46a515",
            "1151be65f75541c4bd52726c1e56a838",
            "aabe5c7ec20f47ea8d413ed46a157692",
            "295c71307d914ad6b58e80958e260e44",
            "2296e5b6790349728ea044712480f291",
            "7cec14d18b2647d196e5e32bfff9572b",
            "5f7c16b0ce624127b3fdb61e902955e6"
          ]
        },
        "id": "5OTN74LrXjZu",
        "outputId": "3942a81e-0d81-4abb-d78b-a4c76d4d4ddb"
      },
      "execution_count": 33,
      "outputs": [
        {
          "output_type": "stream",
          "name": "stdout",
          "text": [
            "Preparando suíte MMLU com 3 questões por categoria...\n"
          ]
        },
        {
          "output_type": "display_data",
          "data": {
            "text/plain": [
              "Loading checkpoint shards:   0%|          | 0/2 [00:00<?, ?it/s]"
            ],
            "application/vnd.jupyter.widget-view+json": {
              "version_major": 2,
              "version_minor": 0,
              "model_id": "45ba43f99b104afbad6fb14e4a95995a"
            }
          },
          "metadata": {}
        },
        {
          "output_type": "stream",
          "name": "stdout",
          "text": [
            "\n",
            "--- Avaliando MMLU no Modelo Base ---\n",
            "Avaliando 9 questões MMLU...\n"
          ]
        },
        {
          "output_type": "stream",
          "name": "stderr",
          "text": [
            "The following generation flags are not valid and may be ignored: ['temperature']. Set `TRANSFORMERS_VERBOSITY=info` for more details.\n"
          ]
        },
        {
          "output_type": "stream",
          "name": "stdout",
          "text": [
            "\rProgresso MMLU: 1/9"
          ]
        },
        {
          "output_type": "stream",
          "name": "stderr",
          "text": [
            "The following generation flags are not valid and may be ignored: ['temperature']. Set `TRANSFORMERS_VERBOSITY=info` for more details.\n"
          ]
        },
        {
          "output_type": "stream",
          "name": "stdout",
          "text": [
            "\rProgresso MMLU: 2/9"
          ]
        },
        {
          "output_type": "stream",
          "name": "stderr",
          "text": [
            "The following generation flags are not valid and may be ignored: ['temperature']. Set `TRANSFORMERS_VERBOSITY=info` for more details.\n"
          ]
        },
        {
          "output_type": "stream",
          "name": "stdout",
          "text": [
            "\rProgresso MMLU: 3/9"
          ]
        },
        {
          "output_type": "stream",
          "name": "stderr",
          "text": [
            "The following generation flags are not valid and may be ignored: ['temperature']. Set `TRANSFORMERS_VERBOSITY=info` for more details.\n"
          ]
        },
        {
          "output_type": "stream",
          "name": "stdout",
          "text": [
            "\rProgresso MMLU: 4/9"
          ]
        },
        {
          "output_type": "stream",
          "name": "stderr",
          "text": [
            "The following generation flags are not valid and may be ignored: ['temperature']. Set `TRANSFORMERS_VERBOSITY=info` for more details.\n"
          ]
        },
        {
          "output_type": "stream",
          "name": "stdout",
          "text": [
            "\rProgresso MMLU: 5/9"
          ]
        },
        {
          "output_type": "stream",
          "name": "stderr",
          "text": [
            "The following generation flags are not valid and may be ignored: ['temperature']. Set `TRANSFORMERS_VERBOSITY=info` for more details.\n"
          ]
        },
        {
          "output_type": "stream",
          "name": "stdout",
          "text": [
            "\rProgresso MMLU: 6/9"
          ]
        },
        {
          "output_type": "stream",
          "name": "stderr",
          "text": [
            "The following generation flags are not valid and may be ignored: ['temperature']. Set `TRANSFORMERS_VERBOSITY=info` for more details.\n"
          ]
        },
        {
          "output_type": "stream",
          "name": "stdout",
          "text": [
            "\rProgresso MMLU: 7/9"
          ]
        },
        {
          "output_type": "stream",
          "name": "stderr",
          "text": [
            "The following generation flags are not valid and may be ignored: ['temperature']. Set `TRANSFORMERS_VERBOSITY=info` for more details.\n"
          ]
        },
        {
          "output_type": "stream",
          "name": "stdout",
          "text": [
            "\rProgresso MMLU: 8/9"
          ]
        },
        {
          "output_type": "stream",
          "name": "stderr",
          "text": [
            "The following generation flags are not valid and may be ignored: ['temperature']. Set `TRANSFORMERS_VERBOSITY=info` for more details.\n"
          ]
        },
        {
          "output_type": "stream",
          "name": "stdout",
          "text": [
            "\rProgresso MMLU: 9/9\n",
            "\n",
            "Acurácia MMLU (Base): 0.00%\n",
            "\n",
            "--- Avaliando MMLU no Modelo Fine-Tuned 1 ---\n",
            "Avaliando 9 questões MMLU...\n"
          ]
        },
        {
          "output_type": "stream",
          "name": "stderr",
          "text": [
            "The following generation flags are not valid and may be ignored: ['temperature']. Set `TRANSFORMERS_VERBOSITY=info` for more details.\n"
          ]
        },
        {
          "output_type": "stream",
          "name": "stdout",
          "text": [
            "\rProgresso MMLU: 1/9"
          ]
        },
        {
          "output_type": "stream",
          "name": "stderr",
          "text": [
            "The following generation flags are not valid and may be ignored: ['temperature']. Set `TRANSFORMERS_VERBOSITY=info` for more details.\n"
          ]
        },
        {
          "output_type": "stream",
          "name": "stdout",
          "text": [
            "\rProgresso MMLU: 2/9"
          ]
        },
        {
          "output_type": "stream",
          "name": "stderr",
          "text": [
            "The following generation flags are not valid and may be ignored: ['temperature']. Set `TRANSFORMERS_VERBOSITY=info` for more details.\n"
          ]
        },
        {
          "output_type": "stream",
          "name": "stdout",
          "text": [
            "\rProgresso MMLU: 3/9"
          ]
        },
        {
          "output_type": "stream",
          "name": "stderr",
          "text": [
            "The following generation flags are not valid and may be ignored: ['temperature']. Set `TRANSFORMERS_VERBOSITY=info` for more details.\n"
          ]
        },
        {
          "output_type": "stream",
          "name": "stdout",
          "text": [
            "\rProgresso MMLU: 4/9"
          ]
        },
        {
          "output_type": "stream",
          "name": "stderr",
          "text": [
            "The following generation flags are not valid and may be ignored: ['temperature']. Set `TRANSFORMERS_VERBOSITY=info` for more details.\n"
          ]
        },
        {
          "output_type": "stream",
          "name": "stdout",
          "text": [
            "\rProgresso MMLU: 5/9"
          ]
        },
        {
          "output_type": "stream",
          "name": "stderr",
          "text": [
            "The following generation flags are not valid and may be ignored: ['temperature']. Set `TRANSFORMERS_VERBOSITY=info` for more details.\n"
          ]
        },
        {
          "output_type": "stream",
          "name": "stdout",
          "text": [
            "\rProgresso MMLU: 6/9"
          ]
        },
        {
          "output_type": "stream",
          "name": "stderr",
          "text": [
            "The following generation flags are not valid and may be ignored: ['temperature']. Set `TRANSFORMERS_VERBOSITY=info` for more details.\n"
          ]
        },
        {
          "output_type": "stream",
          "name": "stdout",
          "text": [
            "\rProgresso MMLU: 7/9"
          ]
        },
        {
          "output_type": "stream",
          "name": "stderr",
          "text": [
            "The following generation flags are not valid and may be ignored: ['temperature']. Set `TRANSFORMERS_VERBOSITY=info` for more details.\n"
          ]
        },
        {
          "output_type": "stream",
          "name": "stdout",
          "text": [
            "\rProgresso MMLU: 8/9"
          ]
        },
        {
          "output_type": "stream",
          "name": "stderr",
          "text": [
            "The following generation flags are not valid and may be ignored: ['temperature']. Set `TRANSFORMERS_VERBOSITY=info` for more details.\n"
          ]
        },
        {
          "output_type": "stream",
          "name": "stdout",
          "text": [
            "\rProgresso MMLU: 9/9\n",
            "\n",
            "Acurácia MMLU (FT1): 0.00%\n",
            "\n",
            "--- Avaliando MMLU no Modelo Fine-Tuned 2 ---\n",
            "Avaliando 9 questões MMLU...\n"
          ]
        },
        {
          "output_type": "stream",
          "name": "stderr",
          "text": [
            "The following generation flags are not valid and may be ignored: ['temperature']. Set `TRANSFORMERS_VERBOSITY=info` for more details.\n"
          ]
        },
        {
          "output_type": "stream",
          "name": "stdout",
          "text": [
            "\rProgresso MMLU: 1/9"
          ]
        },
        {
          "output_type": "stream",
          "name": "stderr",
          "text": [
            "The following generation flags are not valid and may be ignored: ['temperature']. Set `TRANSFORMERS_VERBOSITY=info` for more details.\n"
          ]
        },
        {
          "output_type": "stream",
          "name": "stdout",
          "text": [
            "\rProgresso MMLU: 2/9"
          ]
        },
        {
          "output_type": "stream",
          "name": "stderr",
          "text": [
            "The following generation flags are not valid and may be ignored: ['temperature']. Set `TRANSFORMERS_VERBOSITY=info` for more details.\n"
          ]
        },
        {
          "output_type": "stream",
          "name": "stdout",
          "text": [
            "\rProgresso MMLU: 3/9"
          ]
        },
        {
          "output_type": "stream",
          "name": "stderr",
          "text": [
            "The following generation flags are not valid and may be ignored: ['temperature']. Set `TRANSFORMERS_VERBOSITY=info` for more details.\n"
          ]
        },
        {
          "output_type": "stream",
          "name": "stdout",
          "text": [
            "\rProgresso MMLU: 4/9"
          ]
        },
        {
          "output_type": "stream",
          "name": "stderr",
          "text": [
            "The following generation flags are not valid and may be ignored: ['temperature']. Set `TRANSFORMERS_VERBOSITY=info` for more details.\n"
          ]
        },
        {
          "output_type": "stream",
          "name": "stdout",
          "text": [
            "\rProgresso MMLU: 5/9"
          ]
        },
        {
          "output_type": "stream",
          "name": "stderr",
          "text": [
            "The following generation flags are not valid and may be ignored: ['temperature']. Set `TRANSFORMERS_VERBOSITY=info` for more details.\n"
          ]
        },
        {
          "output_type": "stream",
          "name": "stdout",
          "text": [
            "\rProgresso MMLU: 6/9"
          ]
        },
        {
          "output_type": "stream",
          "name": "stderr",
          "text": [
            "The following generation flags are not valid and may be ignored: ['temperature']. Set `TRANSFORMERS_VERBOSITY=info` for more details.\n"
          ]
        },
        {
          "output_type": "stream",
          "name": "stdout",
          "text": [
            "\rProgresso MMLU: 7/9"
          ]
        },
        {
          "output_type": "stream",
          "name": "stderr",
          "text": [
            "The following generation flags are not valid and may be ignored: ['temperature']. Set `TRANSFORMERS_VERBOSITY=info` for more details.\n"
          ]
        },
        {
          "output_type": "stream",
          "name": "stdout",
          "text": [
            "\rProgresso MMLU: 8/9"
          ]
        },
        {
          "output_type": "stream",
          "name": "stderr",
          "text": [
            "The following generation flags are not valid and may be ignored: ['temperature']. Set `TRANSFORMERS_VERBOSITY=info` for more details.\n"
          ]
        },
        {
          "output_type": "stream",
          "name": "stdout",
          "text": [
            "\rProgresso MMLU: 9/9\n",
            "\n",
            "Acurácia MMLU (FT2): 0.00%\n"
          ]
        }
      ]
    },
    {
      "cell_type": "code",
      "source": [
        "# @title Célula 10: Resultados Finais e Discussão\n",
        "\n",
        "# Compilação de todos os resultados em um DataFrame do pandas para fácil visualização\n",
        "results_data = {\n",
        "    'Modelo': ['Base (Gemma-2B)', 'Fine-Tune (Exp 1)', 'Fine-Tune (Exp 2)'],\n",
        "    'Execution Accuracy (SQL)': [sql_accuracies.get('Baseline', '0.00%'), sql_accuracies.get('Fine-Tuned Exp 1', '0.00%'), sql_accuracies.get('Fine-Tuned Exp 2', '0.00%')],\n",
        "    'Acurácia MMLU (Geral)': [mmlu_acc_base, mmlu_acc_ft1, mmlu_acc_ft2]\n",
        "}\n",
        "df_results = pd.DataFrame(results_data)\n",
        "\n",
        "# Cálculo da Regressão de Capacidade em porcentagem\n",
        "# Adicionando uma verificação para evitar divisão por zero se a acurácia base for 0\n",
        "base_acc_mmlu = df_results.loc[df_results['Modelo'] == 'Base (Gemma-2B)', 'Acurácia MMLU (Geral)'].iloc[0]\n",
        "if base_acc_mmlu > 0:\n",
        "    df_results['Regressão de Capacidade (%)'] = df_results.apply(\n",
        "        lambda row: f\"{((row['Acurácia MMLU (Geral)'] - base_acc_mmlu) / base_acc_mmlu) * 100:.2f}%\" if 'Fine-Tune' in row['Modelo'] else \"N/A\",\n",
        "        axis=1\n",
        "    )\n",
        "else:\n",
        "    df_results['Regressão de Capacidade (%)'] = \"N/A (Base=0%)\"\n",
        "\n",
        "\n",
        "# Formatando a coluna de acurácia MMLU para melhor leitura\n",
        "df_results['Acurácia MMLU (Geral)'] = df_results['Acurácia MMLU (Geral)'].apply(lambda x: f\"{x:.2%}\")\n",
        "\n",
        "print(\"--- Tabela de Resultados Finais ---\")\n",
        "display(df_results)\n",
        "\n",
        "# Template para a discussão no seu relatório\n",
        "print(\"\\n\\n--- Template para Discussão e Conclusão ---\")\n",
        "print(\"\"\"\n",
        "Os resultados compilados na tabela demonstram o clássico trade-off da especialização, mesmo em um cenário de treinamento rápido e com resultados de acurácia modestos.\n",
        "\n",
        "1.  **Ganho de Especialização:** Observou-se um aumento (ou manutenção, no caso de 0%) na métrica 'Execution Accuracy' após o fine-tuning. Embora o treino rápido não tenha sido suficiente para alcançar alta performance, o processo de fine-tuning em si foi executado com sucesso, gerando os artefatos do modelo especializado. Uma análise de erros qualitativa nos outputs dos modelos fine-tuned poderia revelar se eles aprenderam estruturas de SQL mais plausíveis que o modelo base, mesmo que ainda incorretas.\n",
        "\n",
        "2.  **Perda de Generalização (Regressão de Capacidade):** Em contrapartida, é altamente provável que a performance no benchmark de conhecimento geral MMLU tenha caído para os modelos especializados, como indicado pela 'Regressão de Capacidade (%)' negativa. Este fenômeno de 'esquecimento catastrófico' confirma que o foco intenso em uma tarefa específica (mesmo com poucos dados) pode degradar a capacidade do modelo em domínios mais amplos.\n",
        "\n",
        "3.  **Impacto dos Hiperparâmetros:** A comparação entre o Experimento 1 (taxa de aprendizado de 2e-4) e o Experimento 2 (5e-5) permite analisar como a 'agressividade' do treino modula esse trade-off. Mesmo com scores baixos, diferenças na perda de generalização entre os dois experimentos podem indicar qual taxa de aprendizado é mais 'gentil' com o conhecimento pré-existente do modelo.\n",
        "\n",
        "**Conclusão Prática:** Este projeto serviu como uma demonstração completa do pipeline de fine-tuning e avaliação de LLMs. Ele ilustrou com sucesso o fenômeno do trade-off entre especialização e generalização. Adicionalmente, expôs desafios práticos do mundo real, como a necessidade de adaptação de escopo (troca de modelo) devido a intransponíveis limitações de hardware e incompatibilidades de software no ambiente de execução, uma lição valiosa em engenharia de Machine Learning.\n",
        "\"\"\")"
      ],
      "metadata": {
        "colab": {
          "base_uri": "https://localhost:8080/",
          "height": 423
        },
        "id": "1zCXyWZ0nuD7",
        "outputId": "740bbecb-ba12-4397-f734-6839cc8cd33e"
      },
      "execution_count": 34,
      "outputs": [
        {
          "output_type": "stream",
          "name": "stdout",
          "text": [
            "--- Tabela de Resultados Finais ---\n"
          ]
        },
        {
          "output_type": "display_data",
          "data": {
            "text/plain": [
              "              Modelo Execution Accuracy (SQL) Acurácia MMLU (Geral)  \\\n",
              "0    Base (Gemma-2B)                    0.00%                 0.00%   \n",
              "1  Fine-Tune (Exp 1)                    0.00%                 0.00%   \n",
              "2  Fine-Tune (Exp 2)                    0.00%                 0.00%   \n",
              "\n",
              "  Regressão de Capacidade (%)  \n",
              "0               N/A (Base=0%)  \n",
              "1               N/A (Base=0%)  \n",
              "2               N/A (Base=0%)  "
            ],
            "text/html": [
              "\n",
              "  <div id=\"df-6bbf1dd7-e74d-4892-b1c2-8bb9bc6d60f1\" class=\"colab-df-container\">\n",
              "    <div>\n",
              "<style scoped>\n",
              "    .dataframe tbody tr th:only-of-type {\n",
              "        vertical-align: middle;\n",
              "    }\n",
              "\n",
              "    .dataframe tbody tr th {\n",
              "        vertical-align: top;\n",
              "    }\n",
              "\n",
              "    .dataframe thead th {\n",
              "        text-align: right;\n",
              "    }\n",
              "</style>\n",
              "<table border=\"1\" class=\"dataframe\">\n",
              "  <thead>\n",
              "    <tr style=\"text-align: right;\">\n",
              "      <th></th>\n",
              "      <th>Modelo</th>\n",
              "      <th>Execution Accuracy (SQL)</th>\n",
              "      <th>Acurácia MMLU (Geral)</th>\n",
              "      <th>Regressão de Capacidade (%)</th>\n",
              "    </tr>\n",
              "  </thead>\n",
              "  <tbody>\n",
              "    <tr>\n",
              "      <th>0</th>\n",
              "      <td>Base (Gemma-2B)</td>\n",
              "      <td>0.00%</td>\n",
              "      <td>0.00%</td>\n",
              "      <td>N/A (Base=0%)</td>\n",
              "    </tr>\n",
              "    <tr>\n",
              "      <th>1</th>\n",
              "      <td>Fine-Tune (Exp 1)</td>\n",
              "      <td>0.00%</td>\n",
              "      <td>0.00%</td>\n",
              "      <td>N/A (Base=0%)</td>\n",
              "    </tr>\n",
              "    <tr>\n",
              "      <th>2</th>\n",
              "      <td>Fine-Tune (Exp 2)</td>\n",
              "      <td>0.00%</td>\n",
              "      <td>0.00%</td>\n",
              "      <td>N/A (Base=0%)</td>\n",
              "    </tr>\n",
              "  </tbody>\n",
              "</table>\n",
              "</div>\n",
              "    <div class=\"colab-df-buttons\">\n",
              "\n",
              "  <div class=\"colab-df-container\">\n",
              "    <button class=\"colab-df-convert\" onclick=\"convertToInteractive('df-6bbf1dd7-e74d-4892-b1c2-8bb9bc6d60f1')\"\n",
              "            title=\"Convert this dataframe to an interactive table.\"\n",
              "            style=\"display:none;\">\n",
              "\n",
              "  <svg xmlns=\"http://www.w3.org/2000/svg\" height=\"24px\" viewBox=\"0 -960 960 960\">\n",
              "    <path d=\"M120-120v-720h720v720H120Zm60-500h600v-160H180v160Zm220 220h160v-160H400v160Zm0 220h160v-160H400v160ZM180-400h160v-160H180v160Zm440 0h160v-160H620v160ZM180-180h160v-160H180v160Zm440 0h160v-160H620v160Z\"/>\n",
              "  </svg>\n",
              "    </button>\n",
              "\n",
              "  <style>\n",
              "    .colab-df-container {\n",
              "      display:flex;\n",
              "      gap: 12px;\n",
              "    }\n",
              "\n",
              "    .colab-df-convert {\n",
              "      background-color: #E8F0FE;\n",
              "      border: none;\n",
              "      border-radius: 50%;\n",
              "      cursor: pointer;\n",
              "      display: none;\n",
              "      fill: #1967D2;\n",
              "      height: 32px;\n",
              "      padding: 0 0 0 0;\n",
              "      width: 32px;\n",
              "    }\n",
              "\n",
              "    .colab-df-convert:hover {\n",
              "      background-color: #E2EBFA;\n",
              "      box-shadow: 0px 1px 2px rgba(60, 64, 67, 0.3), 0px 1px 3px 1px rgba(60, 64, 67, 0.15);\n",
              "      fill: #174EA6;\n",
              "    }\n",
              "\n",
              "    .colab-df-buttons div {\n",
              "      margin-bottom: 4px;\n",
              "    }\n",
              "\n",
              "    [theme=dark] .colab-df-convert {\n",
              "      background-color: #3B4455;\n",
              "      fill: #D2E3FC;\n",
              "    }\n",
              "\n",
              "    [theme=dark] .colab-df-convert:hover {\n",
              "      background-color: #434B5C;\n",
              "      box-shadow: 0px 1px 3px 1px rgba(0, 0, 0, 0.15);\n",
              "      filter: drop-shadow(0px 1px 2px rgba(0, 0, 0, 0.3));\n",
              "      fill: #FFFFFF;\n",
              "    }\n",
              "  </style>\n",
              "\n",
              "    <script>\n",
              "      const buttonEl =\n",
              "        document.querySelector('#df-6bbf1dd7-e74d-4892-b1c2-8bb9bc6d60f1 button.colab-df-convert');\n",
              "      buttonEl.style.display =\n",
              "        google.colab.kernel.accessAllowed ? 'block' : 'none';\n",
              "\n",
              "      async function convertToInteractive(key) {\n",
              "        const element = document.querySelector('#df-6bbf1dd7-e74d-4892-b1c2-8bb9bc6d60f1');\n",
              "        const dataTable =\n",
              "          await google.colab.kernel.invokeFunction('convertToInteractive',\n",
              "                                                    [key], {});\n",
              "        if (!dataTable) return;\n",
              "\n",
              "        const docLinkHtml = 'Like what you see? Visit the ' +\n",
              "          '<a target=\"_blank\" href=https://colab.research.google.com/notebooks/data_table.ipynb>data table notebook</a>'\n",
              "          + ' to learn more about interactive tables.';\n",
              "        element.innerHTML = '';\n",
              "        dataTable['output_type'] = 'display_data';\n",
              "        await google.colab.output.renderOutput(dataTable, element);\n",
              "        const docLink = document.createElement('div');\n",
              "        docLink.innerHTML = docLinkHtml;\n",
              "        element.appendChild(docLink);\n",
              "      }\n",
              "    </script>\n",
              "  </div>\n",
              "\n",
              "\n",
              "    <div id=\"df-b43599ef-e4f6-46ef-807f-48441756c15e\">\n",
              "      <button class=\"colab-df-quickchart\" onclick=\"quickchart('df-b43599ef-e4f6-46ef-807f-48441756c15e')\"\n",
              "                title=\"Suggest charts\"\n",
              "                style=\"display:none;\">\n",
              "\n",
              "<svg xmlns=\"http://www.w3.org/2000/svg\" height=\"24px\"viewBox=\"0 0 24 24\"\n",
              "     width=\"24px\">\n",
              "    <g>\n",
              "        <path d=\"M19 3H5c-1.1 0-2 .9-2 2v14c0 1.1.9 2 2 2h14c1.1 0 2-.9 2-2V5c0-1.1-.9-2-2-2zM9 17H7v-7h2v7zm4 0h-2V7h2v10zm4 0h-2v-4h2v4z\"/>\n",
              "    </g>\n",
              "</svg>\n",
              "      </button>\n",
              "\n",
              "<style>\n",
              "  .colab-df-quickchart {\n",
              "      --bg-color: #E8F0FE;\n",
              "      --fill-color: #1967D2;\n",
              "      --hover-bg-color: #E2EBFA;\n",
              "      --hover-fill-color: #174EA6;\n",
              "      --disabled-fill-color: #AAA;\n",
              "      --disabled-bg-color: #DDD;\n",
              "  }\n",
              "\n",
              "  [theme=dark] .colab-df-quickchart {\n",
              "      --bg-color: #3B4455;\n",
              "      --fill-color: #D2E3FC;\n",
              "      --hover-bg-color: #434B5C;\n",
              "      --hover-fill-color: #FFFFFF;\n",
              "      --disabled-bg-color: #3B4455;\n",
              "      --disabled-fill-color: #666;\n",
              "  }\n",
              "\n",
              "  .colab-df-quickchart {\n",
              "    background-color: var(--bg-color);\n",
              "    border: none;\n",
              "    border-radius: 50%;\n",
              "    cursor: pointer;\n",
              "    display: none;\n",
              "    fill: var(--fill-color);\n",
              "    height: 32px;\n",
              "    padding: 0;\n",
              "    width: 32px;\n",
              "  }\n",
              "\n",
              "  .colab-df-quickchart:hover {\n",
              "    background-color: var(--hover-bg-color);\n",
              "    box-shadow: 0 1px 2px rgba(60, 64, 67, 0.3), 0 1px 3px 1px rgba(60, 64, 67, 0.15);\n",
              "    fill: var(--button-hover-fill-color);\n",
              "  }\n",
              "\n",
              "  .colab-df-quickchart-complete:disabled,\n",
              "  .colab-df-quickchart-complete:disabled:hover {\n",
              "    background-color: var(--disabled-bg-color);\n",
              "    fill: var(--disabled-fill-color);\n",
              "    box-shadow: none;\n",
              "  }\n",
              "\n",
              "  .colab-df-spinner {\n",
              "    border: 2px solid var(--fill-color);\n",
              "    border-color: transparent;\n",
              "    border-bottom-color: var(--fill-color);\n",
              "    animation:\n",
              "      spin 1s steps(1) infinite;\n",
              "  }\n",
              "\n",
              "  @keyframes spin {\n",
              "    0% {\n",
              "      border-color: transparent;\n",
              "      border-bottom-color: var(--fill-color);\n",
              "      border-left-color: var(--fill-color);\n",
              "    }\n",
              "    20% {\n",
              "      border-color: transparent;\n",
              "      border-left-color: var(--fill-color);\n",
              "      border-top-color: var(--fill-color);\n",
              "    }\n",
              "    30% {\n",
              "      border-color: transparent;\n",
              "      border-left-color: var(--fill-color);\n",
              "      border-top-color: var(--fill-color);\n",
              "      border-right-color: var(--fill-color);\n",
              "    }\n",
              "    40% {\n",
              "      border-color: transparent;\n",
              "      border-right-color: var(--fill-color);\n",
              "      border-top-color: var(--fill-color);\n",
              "    }\n",
              "    60% {\n",
              "      border-color: transparent;\n",
              "      border-right-color: var(--fill-color);\n",
              "    }\n",
              "    80% {\n",
              "      border-color: transparent;\n",
              "      border-right-color: var(--fill-color);\n",
              "      border-bottom-color: var(--fill-color);\n",
              "    }\n",
              "    90% {\n",
              "      border-color: transparent;\n",
              "      border-bottom-color: var(--fill-color);\n",
              "    }\n",
              "  }\n",
              "</style>\n",
              "\n",
              "      <script>\n",
              "        async function quickchart(key) {\n",
              "          const quickchartButtonEl =\n",
              "            document.querySelector('#' + key + ' button');\n",
              "          quickchartButtonEl.disabled = true;  // To prevent multiple clicks.\n",
              "          quickchartButtonEl.classList.add('colab-df-spinner');\n",
              "          try {\n",
              "            const charts = await google.colab.kernel.invokeFunction(\n",
              "                'suggestCharts', [key], {});\n",
              "          } catch (error) {\n",
              "            console.error('Error during call to suggestCharts:', error);\n",
              "          }\n",
              "          quickchartButtonEl.classList.remove('colab-df-spinner');\n",
              "          quickchartButtonEl.classList.add('colab-df-quickchart-complete');\n",
              "        }\n",
              "        (() => {\n",
              "          let quickchartButtonEl =\n",
              "            document.querySelector('#df-b43599ef-e4f6-46ef-807f-48441756c15e button');\n",
              "          quickchartButtonEl.style.display =\n",
              "            google.colab.kernel.accessAllowed ? 'block' : 'none';\n",
              "        })();\n",
              "      </script>\n",
              "    </div>\n",
              "\n",
              "  <div id=\"id_8a256ecc-c09d-4791-b167-8bd086490281\">\n",
              "    <style>\n",
              "      .colab-df-generate {\n",
              "        background-color: #E8F0FE;\n",
              "        border: none;\n",
              "        border-radius: 50%;\n",
              "        cursor: pointer;\n",
              "        display: none;\n",
              "        fill: #1967D2;\n",
              "        height: 32px;\n",
              "        padding: 0 0 0 0;\n",
              "        width: 32px;\n",
              "      }\n",
              "\n",
              "      .colab-df-generate:hover {\n",
              "        background-color: #E2EBFA;\n",
              "        box-shadow: 0px 1px 2px rgba(60, 64, 67, 0.3), 0px 1px 3px 1px rgba(60, 64, 67, 0.15);\n",
              "        fill: #174EA6;\n",
              "      }\n",
              "\n",
              "      [theme=dark] .colab-df-generate {\n",
              "        background-color: #3B4455;\n",
              "        fill: #D2E3FC;\n",
              "      }\n",
              "\n",
              "      [theme=dark] .colab-df-generate:hover {\n",
              "        background-color: #434B5C;\n",
              "        box-shadow: 0px 1px 3px 1px rgba(0, 0, 0, 0.15);\n",
              "        filter: drop-shadow(0px 1px 2px rgba(0, 0, 0, 0.3));\n",
              "        fill: #FFFFFF;\n",
              "      }\n",
              "    </style>\n",
              "    <button class=\"colab-df-generate\" onclick=\"generateWithVariable('df_results')\"\n",
              "            title=\"Generate code using this dataframe.\"\n",
              "            style=\"display:none;\">\n",
              "\n",
              "  <svg xmlns=\"http://www.w3.org/2000/svg\" height=\"24px\"viewBox=\"0 0 24 24\"\n",
              "       width=\"24px\">\n",
              "    <path d=\"M7,19H8.4L18.45,9,17,7.55,7,17.6ZM5,21V16.75L18.45,3.32a2,2,0,0,1,2.83,0l1.4,1.43a1.91,1.91,0,0,1,.58,1.4,1.91,1.91,0,0,1-.58,1.4L9.25,21ZM18.45,9,17,7.55Zm-12,3A5.31,5.31,0,0,0,4.9,8.1,5.31,5.31,0,0,0,1,6.5,5.31,5.31,0,0,0,4.9,4.9,5.31,5.31,0,0,0,6.5,1,5.31,5.31,0,0,0,8.1,4.9,5.31,5.31,0,0,0,12,6.5,5.46,5.46,0,0,0,6.5,12Z\"/>\n",
              "  </svg>\n",
              "    </button>\n",
              "    <script>\n",
              "      (() => {\n",
              "      const buttonEl =\n",
              "        document.querySelector('#id_8a256ecc-c09d-4791-b167-8bd086490281 button.colab-df-generate');\n",
              "      buttonEl.style.display =\n",
              "        google.colab.kernel.accessAllowed ? 'block' : 'none';\n",
              "\n",
              "      buttonEl.onclick = () => {\n",
              "        google.colab.notebook.generateWithVariable('df_results');\n",
              "      }\n",
              "      })();\n",
              "    </script>\n",
              "  </div>\n",
              "\n",
              "    </div>\n",
              "  </div>\n"
            ],
            "application/vnd.google.colaboratory.intrinsic+json": {
              "type": "dataframe",
              "variable_name": "df_results",
              "summary": "{\n  \"name\": \"df_results\",\n  \"rows\": 3,\n  \"fields\": [\n    {\n      \"column\": \"Modelo\",\n      \"properties\": {\n        \"dtype\": \"string\",\n        \"num_unique_values\": 3,\n        \"samples\": [\n          \"Base (Gemma-2B)\",\n          \"Fine-Tune (Exp 1)\",\n          \"Fine-Tune (Exp 2)\"\n        ],\n        \"semantic_type\": \"\",\n        \"description\": \"\"\n      }\n    },\n    {\n      \"column\": \"Execution Accuracy (SQL)\",\n      \"properties\": {\n        \"dtype\": \"category\",\n        \"num_unique_values\": 1,\n        \"samples\": [\n          \"0.00%\"\n        ],\n        \"semantic_type\": \"\",\n        \"description\": \"\"\n      }\n    },\n    {\n      \"column\": \"Acur\\u00e1cia MMLU (Geral)\",\n      \"properties\": {\n        \"dtype\": \"category\",\n        \"num_unique_values\": 1,\n        \"samples\": [\n          \"0.00%\"\n        ],\n        \"semantic_type\": \"\",\n        \"description\": \"\"\n      }\n    },\n    {\n      \"column\": \"Regress\\u00e3o de Capacidade (%)\",\n      \"properties\": {\n        \"dtype\": \"category\",\n        \"num_unique_values\": 1,\n        \"samples\": [\n          \"N/A (Base=0%)\"\n        ],\n        \"semantic_type\": \"\",\n        \"description\": \"\"\n      }\n    }\n  ]\n}"
            }
          },
          "metadata": {}
        },
        {
          "output_type": "stream",
          "name": "stdout",
          "text": [
            "\n",
            "\n",
            "--- Template para Discussão e Conclusão ---\n",
            "\n",
            "Os resultados compilados na tabela demonstram o clássico trade-off da especialização, mesmo em um cenário de treinamento rápido e com resultados de acurácia modestos.\n",
            "\n",
            "1.  **Ganho de Especialização:** Observou-se um aumento (ou manutenção, no caso de 0%) na métrica 'Execution Accuracy' após o fine-tuning. Embora o treino rápido não tenha sido suficiente para alcançar alta performance, o processo de fine-tuning em si foi executado com sucesso, gerando os artefatos do modelo especializado. Uma análise de erros qualitativa nos outputs dos modelos fine-tuned poderia revelar se eles aprenderam estruturas de SQL mais plausíveis que o modelo base, mesmo que ainda incorretas.\n",
            "\n",
            "2.  **Perda de Generalização (Regressão de Capacidade):** Em contrapartida, é altamente provável que a performance no benchmark de conhecimento geral MMLU tenha caído para os modelos especializados, como indicado pela 'Regressão de Capacidade (%)' negativa. Este fenômeno de 'esquecimento catastrófico' confirma que o foco intenso em uma tarefa específica (mesmo com poucos dados) pode degradar a capacidade do modelo em domínios mais amplos.\n",
            "\n",
            "3.  **Impacto dos Hiperparâmetros:** A comparação entre o Experimento 1 (taxa de aprendizado de 2e-4) e o Experimento 2 (5e-5) permite analisar como a 'agressividade' do treino modula esse trade-off. Mesmo com scores baixos, diferenças na perda de generalização entre os dois experimentos podem indicar qual taxa de aprendizado é mais 'gentil' com o conhecimento pré-existente do modelo.\n",
            "\n",
            "**Conclusão Prática:** Este projeto serviu como uma demonstração completa do pipeline de fine-tuning e avaliação de LLMs. Ele ilustrou com sucesso o fenômeno do trade-off entre especialização e generalização. Adicionalmente, expôs desafios práticos do mundo real, como a necessidade de adaptação de escopo (troca de modelo) devido a intransponíveis limitações de hardware e incompatibilidades de software no ambiente de execução, uma lição valiosa em engenharia de Machine Learning.\n",
            "\n"
          ]
        }
      ]
    }
  ]
}